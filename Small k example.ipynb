{
 "cells": [
  {
   "cell_type": "code",
   "execution_count": 22,
   "metadata": {},
   "outputs": [],
   "source": [
    "from IPython.display import Image\n",
    "\n",
    "import numpy as np\n",
    "import pandas as pd\n",
    "import pystan"
   ]
  },
  {
   "cell_type": "markdown",
   "metadata": {},
   "source": [
    "Suppose we have some measurements from an experiment involving the following system of chemical reactions:"
   ]
  },
  {
   "cell_type": "code",
   "execution_count": 23,
   "metadata": {},
   "outputs": [
    {
     "data": {
      "image/png": "[encoded data removed]",
      "text/plain": [
       "<IPython.core.display.Image object>"
      ]
     },
     "execution_count": 23,
     "metadata": {},
     "output_type": "execute_result"
    }
   ],
   "source": [
    "Image('equation.png')"
   ]
  },
  {
   "cell_type": "markdown",
   "metadata": {},
   "source": [
    "Reactions 1, 3 and 4 are known to have the following underlying mechanism, which we shall call 'UniUni':\n",
    "\n",
    "$$\n",
    "\\begin{align*}\n",
    "E + S \\iff ES \\\\\n",
    "ES \\iff EP \\\\\n",
    "EP \\iff E + P\n",
    "\\end{align*}\n",
    "$$\n",
    "\n",
    "In the first elementary reaction, the enzyme $E$ and substrate $S$ combine to form an enzyme-substrate complex $ES$. In the second elementary reaction, the substrate part of the complex turns into the product $P$, i.e. $ES$ turns into $EP$. In the third elementary reaction the product separates from the enzyme. While in normal conditions these reactions will all take place from left to right, for full generality we must also consider the reverse reaction in each case. In order to fully understand the reaction we therefore need to consider 6 elementary components.\n",
    "\n",
    "Reaction 2 is assumed to be inhibited by the metabolite $X_3$. This reaction has a slightly more complicated elementary mechanism called 'Uni-Uni-inhib':\n",
    "\n",
    "$$\n",
    "\\begin{align*}\n",
    "E + S \\iff ES \\\\\n",
    "E + I \\iff EI \\\\\n",
    "ES \\iff EP \\\\\n",
    "EP \\iff E + P\n",
    "\\end{align*}\n",
    "$$\n",
    "\n",
    "## Experiment\n",
    "To carry out the experiment, the components of the system were left in a test tube, and the concentrations of the internal metabolites $X_1, ..., X_3$ were allowed to vary, while the concentrations of external metabolites $S$ and $P$, as well as the enzymes $E_1,..., E_4$ were kept constant. The tube was left for a long time in these conditions so that it eventually it became safe to assume that the concentrations of internal metabolites was no longer changing - in other words, the system had reached a 'steady state'. The internal metabolite concetrations were then measured, as was the overall flux through the system, called $v$. The experiment was repeated with a variety of enzyme and external metabolite concentrations, leading to the following results:"
   ]
  },
  {
   "cell_type": "code",
   "execution_count": 24,
   "metadata": {},
   "outputs": [
    {
     "data": {
      "text/html": [
       "<div>\n",
       "<style scoped>\n",
       "    .dataframe tbody tr th:only-of-type {\n",
       "        vertical-align: middle;\n",
       "    }\n",
       "\n",
       "    .dataframe tbody tr th {\n",
       "        vertical-align: top;\n",
       "    }\n",
       "\n",
       "    .dataframe thead th {\n",
       "        text-align: right;\n",
       "    }\n",
       "</style>\n",
       "<table border=\"1\" class=\"dataframe\">\n",
       "  <thead>\n",
       "    <tr style=\"text-align: right;\">\n",
       "      <th></th>\n",
       "      <th>E1</th>\n",
       "      <th>E2</th>\n",
       "      <th>E3</th>\n",
       "      <th>E4</th>\n",
       "      <th>s</th>\n",
       "      <th>p</th>\n",
       "      <th>X1</th>\n",
       "      <th>X2</th>\n",
       "      <th>X3</th>\n",
       "      <th>v</th>\n",
       "    </tr>\n",
       "  </thead>\n",
       "  <tbody>\n",
       "    <tr>\n",
       "      <th>Ex_1</th>\n",
       "      <td>1</td>\n",
       "      <td>1</td>\n",
       "      <td>1</td>\n",
       "      <td>2</td>\n",
       "      <td>1.0</td>\n",
       "      <td>1</td>\n",
       "      <td>0.90</td>\n",
       "      <td>0.9</td>\n",
       "      <td>0.75</td>\n",
       "      <td>0.11</td>\n",
       "    </tr>\n",
       "    <tr>\n",
       "      <th>Ex_2</th>\n",
       "      <td>1</td>\n",
       "      <td>2</td>\n",
       "      <td>1</td>\n",
       "      <td>1</td>\n",
       "      <td>1.0</td>\n",
       "      <td>1</td>\n",
       "      <td>0.90</td>\n",
       "      <td>1.2</td>\n",
       "      <td>1.10</td>\n",
       "      <td>0.12</td>\n",
       "    </tr>\n",
       "    <tr>\n",
       "      <th>Ex_3</th>\n",
       "      <td>1</td>\n",
       "      <td>1</td>\n",
       "      <td>1</td>\n",
       "      <td>1</td>\n",
       "      <td>0.5</td>\n",
       "      <td>2</td>\n",
       "      <td>0.65</td>\n",
       "      <td>0.9</td>\n",
       "      <td>1.30</td>\n",
       "      <td>0.05</td>\n",
       "    </tr>\n",
       "    <tr>\n",
       "      <th>Ref</th>\n",
       "      <td>1</td>\n",
       "      <td>1</td>\n",
       "      <td>1</td>\n",
       "      <td>1</td>\n",
       "      <td>1.0</td>\n",
       "      <td>1</td>\n",
       "      <td>1.00</td>\n",
       "      <td>1.0</td>\n",
       "      <td>1.00</td>\n",
       "      <td>0.10</td>\n",
       "    </tr>\n",
       "  </tbody>\n",
       "</table>\n",
       "</div>"
      ],
      "text/plain": [
       "      E1  E2  E3  E4    s  p    X1   X2    X3     v\n",
       "Ex_1   1   1   1   2  1.0  1  0.90  0.9  0.75  0.11\n",
       "Ex_2   1   2   1   1  1.0  1  0.90  1.2  1.10  0.12\n",
       "Ex_3   1   1   1   1  0.5  2  0.65  0.9  1.30  0.05\n",
       "Ref    1   1   1   1  1.0  1  1.00  1.0  1.00  0.10"
      ]
     },
     "execution_count": 24,
     "metadata": {},
     "output_type": "execute_result"
    }
   ],
   "source": [
    "data = pd.read_csv('data.csv', index_col=0)\n",
    "data"
   ]
  },
  {
   "cell_type": "markdown",
   "metadata": {},
   "source": [
    "## Modelling strategy\n",
    "This notebook explores how to learn from this data, taking advantage of the rich information that is available about how the underlying reaction system. The overall strategy is as follows:\n",
    "\n",
    "1. Formulate a rate equation for each reaction, specifying how fast it will proceed as a function of some unknown parameters and known experimental conditions.\n",
    "2. Use our knowledge of the overall reaction system to express the rates of change of each internal metabolite concentration as a function of the system's rate equations - at steady state this rate will be zero.\n",
    "3. Solve the resulting system of ordinary differential equations so that (at steady state) the internal metabolite concentrations can be expressed as  functions of parameters and conditions governing rate equations.\n",
    "4. Express non-experimental information about the reactions as probability distributions over the unknown parameters, and express the experimental information as a probabilistic measurement model.\n",
    "5. Combine the experimental and non-experimental information with a Bayesian statistical model.\n",
    "\n",
    "For simplicity we use the same simple measurement model in each case - measured concentrations and fluxes are unbiased draws from a normal distribution centered at the true values, with known variance. \n",
    "\n",
    "The notebook will explore three different ways of parameterising the system's reaction rates and representing the available information as probability distributions over these parameters' possible values.\n",
    "\n",
    "1. **'Big K' approach**\n",
    "\n",
    "   This approach represents each reaction's rate in terms of macroscopic parameters, with the elementary reactions not being represented explicitly. Each macroscopic parameter is given a weakly informative prior distribition.\n",
    "   \n",
    "2. **'Small k' approach**\n",
    "\n",
    "   Reaction rates are expressed in terms of elementary reactions. Each elementary rate constant is given a \n",
    "\n",
    "1. **'Small k' approach with auxiliary parameters**\n",
    "\n",
    "   This approach takes advantage of the fact that the \n",
    "  "
   ]
  },
  {
   "cell_type": "markdown",
   "metadata": {},
   "source": [
    "## Testing that the functions behave as expected\n",
    "\n",
    "The Stan code using auxilliary parameters uses some functions that I copied from GRASP. I used the cells below to test whether these functions were working properly.\n",
    "\n",
    "The first cell tests the function `get_small_k_uni_uni.stan` against some numbers from GRASP."
   ]
  },
  {
   "cell_type": "code",
   "execution_count": 2,
   "metadata": {},
   "outputs": [
    {
     "name": "stderr",
     "output_type": "stream",
     "text": [
      "INFO:pystan:COMPILING THE C++ CODE FOR MODEL anon_model_2d4f996f725848e5ccb5e31ff8d54724 NOW.\n"
     ]
    },
    {
     "name": "stdout",
     "output_type": "stream",
     "text": [
      "expected result: [0.3402 2.4271 1.9285 0.1115 0.8744 0.0209]\n",
      "function result: [0.3402 2.4266 1.9286 0.1115 0.8743 0.0209]\n"
     ]
    }
   ],
   "source": [
    "uni_uni_model = pystan.StanModel(file='test_get_small_k_uni_uni.stan')\n",
    "\n",
    "reversibility_proportional = np.array([0.1140, 0.4452, 0.4408])\n",
    "enzyme_abundance_raw = np.array([0.7899, 0.0654, 0.1447])\n",
    "expected_result = np.array([ 0.3402, 2.4271, 1.9285, 0.1115, 0.8744, 0.0209])\n",
    "gibbs = -11.4499\n",
    "reaction_flux = 0.11\n",
    "RT = 2.4788\n",
    "\n",
    "data = {\n",
    "    'reversibility_proportional': reversibility_proportional,\n",
    "    'enzyme_abundance_raw': enzyme_abundance_raw,\n",
    "    'gibbs': gibbs,\n",
    "    'reaction_flux': reaction_flux\n",
    "}\n",
    "\n",
    "uni_uni_fit = uni_uni_model.sampling(data=data, iter=1, chains=1, algorithm='Fixed_param')\n",
    "function_result = uni_uni_fit['small_k'].reshape(-1).round(4)\n",
    "\n",
    "print(f'expected result: {expected_result}')\n",
    "print(f'function result: {function_result}')"
   ]
  },
  {
   "cell_type": "markdown",
   "metadata": {},
   "source": [
    "The next cell uses the same method to test the Stan function `get_small_k_uni_uni_inhib`. The only difference is that this  function needs one more input - `elementary_flux_modifier`."
   ]
  },
  {
   "cell_type": "code",
   "execution_count": 20,
   "metadata": {},
   "outputs": [
    {
     "name": "stderr",
     "output_type": "stream",
     "text": [
      "INFO:pystan:COMPILING THE C++ CODE FOR MODEL anon_model_214bf2ba052a96e28b3baf5324303633 NOW.\n"
     ]
    },
    {
     "name": "stdout",
     "output_type": "stream",
     "text": [
      "expected result: [0.9178 0.5159 0.6231 0.3029 0.8601 0.0032 0.2952 0.0599]\n",
      "function result: [0.9178 0.5159 0.6231 0.3029 0.8601 0.0032 0.2952 0.0599]\n"
     ]
    }
   ],
   "source": [
    "uni_uni_inhib_model = pystan.StanModel(file='test_get_small_k_uni_uni_inhib.stan')\n",
    "reversibility_proportional = np.array([0.1252, 0, 0.5721, 0.3027])\n",
    "enzyme_abundance_raw = np.array([0.1926, 0.1294, 0.2662, 0.4118])\n",
    "expected_result = np.array([0.9178 ,0.5159, 0.6231, 0.3029, 0.8601, 0.0032, 0.2952, 0.0599])\n",
    "gibbs = -19.2777\n",
    "reaction_flux = 0.11\n",
    "RT = 2.4788\n",
    "elementary_flux_modifier = 0.7330\n",
    "\n",
    "data = {\n",
    "    'reversibility_proportional': reversibility_proportional,\n",
    "    'enzyme_abundance_raw': enzyme_abundance_raw,\n",
    "    'gibbs': gibbs,\n",
    "    'reaction_flux': reaction_flux,\n",
    "    'elementary_flux_modifier': elementary_flux_modifier\n",
    "}\n",
    "\n",
    "uni_uni_inhib_fit = uni_uni_inhib_model.sampling(data=data, iter=1, chains=1, algorithm='Fixed_param')\n",
    "function_result = uni_uni_inhib_fit['small_k'].reshape(-1).round(4)\n",
    "\n",
    "print(f'expected result: {expected_result}')\n",
    "print(f'function result: {function_result}')"
   ]
  }
 ],
 "metadata": {
  "kernelspec": {
   "display_name": "Python 3",
   "language": "python",
   "name": "python3"
  },
  "language_info": {
   "codemirror_mode": {
    "name": "ipython",
    "version": 3
   },
   "file_extension": ".py",
   "mimetype": "text/x-python",
   "name": "python",
   "nbconvert_exporter": "python",
   "pygments_lexer": "ipython3",
   "version": "3.7.2"
  }
 },
 "nbformat": 4,
 "nbformat_minor": 2
}
