{
 "cells": [
  {
   "cell_type": "code",
   "execution_count": 1,
   "metadata": {},
   "outputs": [],
   "source": [
    "from IPython.display import Image\n",
    "from matplotlib import pyplot as plt\n",
    "from scipy.stats import lognorm\n",
    "import arviz\n",
    "import numpy as np\n",
    "import pandas as pd\n",
    "import pystan\n",
    "plt.style.use('sparse.mplstyle')"
   ]
  },
  {
   "cell_type": "markdown",
   "metadata": {},
   "source": [
    "# Analysing a simple biochemical reaction system using Stan\n",
    "\n",
    "Svetlana kindly sent me an example of a simple biochemical model to help my understanding. This notebook is my attempt to reproduce Svetlana's analysis using Stan.\n",
    "\n",
    "The example concerns a simple linear system of chemical equations with the following structure:"
   ]
  },
  {
   "cell_type": "code",
   "execution_count": 2,
   "metadata": {},
   "outputs": [
    {
     "data": {
      "image/png": "[encoded data removed]",
      "text/plain": [
       "<IPython.core.display.Image object>"
      ]
     },
     "execution_count": 2,
     "metadata": {},
     "output_type": "execute_result"
    }
   ],
   "source": [
    "Image(\"equation.png\")"
   ]
  },
  {
   "cell_type": "markdown",
   "metadata": {},
   "source": [
    "In this picture $s$ and $p$ represent substrate and product concentrations, $X_1$, $X_2$ and $X_3$ represent intermediate metabolite concentrations and $E_1$, $E_2$, $E_3$ and $E_4$ represent concentrations of four different enzymes, each of which catalyses the reaction represented by its arrow.\n",
    "\n",
    "We have a hypothetical scenario where there have been three experiments `Ex_1`, `Ex_2` and `Ex_3`. In each experiment, the system was left for a while with the concentrations of the enzymes, substrate and product being kept fixed while the concentrations of the metabolites were left to vary. Once enough time had passed to be confident that the concentrations were no longer changing, the concentrations of the metabolites were measured. In addition, we have some `Ref` values which serve to normalise our data. Here is how our results might look:"
   ]
  },
  {
   "cell_type": "code",
   "execution_count": 3,
   "metadata": {},
   "outputs": [
    {
     "data": {
      "text/html": [
       "<div>\n",
       "<style scoped>\n",
       "    .dataframe tbody tr th:only-of-type {\n",
       "        vertical-align: middle;\n",
       "    }\n",
       "\n",
       "    .dataframe tbody tr th {\n",
       "        vertical-align: top;\n",
       "    }\n",
       "\n",
       "    .dataframe thead th {\n",
       "        text-align: right;\n",
       "    }\n",
       "</style>\n",
       "<table border=\"1\" class=\"dataframe\">\n",
       "  <thead>\n",
       "    <tr style=\"text-align: right;\">\n",
       "      <th></th>\n",
       "      <th>E1</th>\n",
       "      <th>E2</th>\n",
       "      <th>E3</th>\n",
       "      <th>E4</th>\n",
       "      <th>s</th>\n",
       "      <th>p</th>\n",
       "      <th>X1</th>\n",
       "      <th>X2</th>\n",
       "      <th>X3</th>\n",
       "      <th>v</th>\n",
       "    </tr>\n",
       "  </thead>\n",
       "  <tbody>\n",
       "    <tr>\n",
       "      <th>Ex_1</th>\n",
       "      <td>1</td>\n",
       "      <td>1</td>\n",
       "      <td>1</td>\n",
       "      <td>2</td>\n",
       "      <td>1.0</td>\n",
       "      <td>1</td>\n",
       "      <td>0.90</td>\n",
       "      <td>0.9</td>\n",
       "      <td>0.75</td>\n",
       "      <td>0.11</td>\n",
       "    </tr>\n",
       "    <tr>\n",
       "      <th>Ex_2</th>\n",
       "      <td>1</td>\n",
       "      <td>2</td>\n",
       "      <td>1</td>\n",
       "      <td>1</td>\n",
       "      <td>1.0</td>\n",
       "      <td>1</td>\n",
       "      <td>0.90</td>\n",
       "      <td>1.2</td>\n",
       "      <td>1.10</td>\n",
       "      <td>0.12</td>\n",
       "    </tr>\n",
       "    <tr>\n",
       "      <th>Ex_3</th>\n",
       "      <td>1</td>\n",
       "      <td>1</td>\n",
       "      <td>1</td>\n",
       "      <td>1</td>\n",
       "      <td>0.5</td>\n",
       "      <td>2</td>\n",
       "      <td>0.65</td>\n",
       "      <td>0.9</td>\n",
       "      <td>1.30</td>\n",
       "      <td>0.05</td>\n",
       "    </tr>\n",
       "    <tr>\n",
       "      <th>Ref</th>\n",
       "      <td>1</td>\n",
       "      <td>1</td>\n",
       "      <td>1</td>\n",
       "      <td>1</td>\n",
       "      <td>1.0</td>\n",
       "      <td>1</td>\n",
       "      <td>1.00</td>\n",
       "      <td>1.0</td>\n",
       "      <td>1.00</td>\n",
       "      <td>0.10</td>\n",
       "    </tr>\n",
       "  </tbody>\n",
       "</table>\n",
       "</div>"
      ],
      "text/plain": [
       "      E1  E2  E3  E4    s  p    X1   X2    X3     v\n",
       "Ex_1   1   1   1   2  1.0  1  0.90  0.9  0.75  0.11\n",
       "Ex_2   1   2   1   1  1.0  1  0.90  1.2  1.10  0.12\n",
       "Ex_3   1   1   1   1  0.5  2  0.65  0.9  1.30  0.05\n",
       "Ref    1   1   1   1  1.0  1  1.00  1.0  1.00  0.10"
      ]
     },
     "execution_count": 3,
     "metadata": {},
     "output_type": "execute_result"
    }
   ],
   "source": [
    "data = pd.read_csv('data.csv', index_col=0)\n",
    "data"
   ]
  },
  {
   "cell_type": "markdown",
   "metadata": {},
   "source": [
    "After having done the experiment, we would now like to know what we have learned about our enzymes. More specifically, suppose we know that the reactions' rates can be parameterised as follows\n",
    "\n",
    "\n",
    "$$\n",
    "\\begin{align*}\n",
    "v_1&=E_1\\cdot\\frac{kcat_1\\cdot(S-X_1/Keq_1)}{S+Km_1+X_1/Keq_1} \\\\\n",
    "v_2&=E_2\\cdot\\frac{kcat_2\\cdot(X_1-X_2/Keq_2)}{X_1+Km_2+X_2/Keq_2}\\cdot\\frac{1}{1+X_3/KI_2} \\\\\n",
    "v_3&=E_3\\cdot\\frac{kcat_3\\cdot(X_2-X_3/Keq_3)}{X_2+Km_3+X_3/Keq_3} \\\\\n",
    "v_4&=E_4\\cdot\\frac{kcat_4\\cdot(X_3-P/Keq_4)}{X_3+Km_4+P/Keq_4} \\\\\n",
    "\\end{align*}\n",
    "$$\n",
    "\n",
    "where $kcat$, $Km$ and $Keq$ are enzyme-specific constants and $KI_2$ represents the extent to which the concentration of metabolite $X_3$ inhibits reaction 2.\n",
    "\n",
    "Together with the graph above, these rate equations imply a system of ODEs describing how the concentrations will change over time:\n",
    "\n",
    "$$\n",
    "\\begin{align*}\n",
    "&\\frac{dS}{dt} = -v1 \\\\\n",
    "&\\frac{dX_1}{dt} = v1-v2 \\\\\n",
    "&\\frac{dX_2}{dt} = v2-v3 \\\\\n",
    "&\\frac{dX_3}{dt} = v3-v4 \\\\\n",
    "&\\frac{dP}{dt} = v4 \\\\\n",
    "&\\end{align*}\n",
    "$$\n",
    "\n",
    "In order to learn from our experimental data, we will use the following method:\n",
    "\n",
    "1. Come up with a plausible prior distribution for each of the system's parameters.\n",
    "2. Come up with numbers describing the accuracy of the measurements\n",
    "3. Combine our prior distributions with our measurement model using Bayesian inference.\n",
    "\n",
    "The trickiest part of this approach is to say what measurements are implied by a given prior configuration. In this notebook I have addressed this problem by solving the system of equations under the assumption that the concentrations of internal metabolites are not changing, i.e. $\\frac{dX_1}{dt} = \\frac{dX_2}{dt} = \\frac{dX_3}{dt} = 0$. This can be done using Stan's built in equation solver - the process works roughly as follows.\n",
    "\n",
    "1. Stan's Hamiltonian Monte Carlo algorithm presents a configuration of parameter values, including .\n",
    "2. We use the flux equations and the concentrations of controlled substances to express $\\frac{dX_1}{dt}$, $\\frac{dX_2}{dt}$ and $\\frac{dX_3}{dt}$ as functions of internal metabolite concentrations $X_1,...,X_3$.\n",
    "3. We use the algebra solver to find the values of $X_1$, $X_2$ and $X_3$ where $\\frac{dX_1}{dt}$, $\\frac{dX_2}{dt}$ and $\\frac{dX_3}{dt}$ are all zero.\n",
    "4. We plug the modelled values of $X_1$, $X_2$ and $X_3$ back into the flux equations to find modelled values of $v_1, ..., v_4$\n",
    "\n",
    "See [here](https://mc-stan.org/docs/2_18/stan-users-guide/algebra-solver-chapter.html) for more about Stan's algebra solver.\n",
    "\n",
    "First we compile a Stan model from a file and print its code"
   ]
  },
  {
   "cell_type": "code",
   "execution_count": 4,
   "metadata": {
    "scrolled": false
   },
   "outputs": [
    {
     "name": "stderr",
     "output_type": "stream",
     "text": [
      "INFO:pystan:COMPILING THE C++ CODE FOR MODEL anon_model_3cbe627926f2d43eeabeda8dfee60d1a NOW.\n"
     ]
    },
    {
     "name": "stdout",
     "output_type": "stream",
     "text": [
      "functions {\n",
      "#include functions.stan\n",
      "}\n",
      "data {\n",
      "  int<lower=1> N_metabolite;\n",
      "  int<lower=1> N_controlled;\n",
      "  int<lower=1> N_experiment;\n",
      "  real measured_metabolite[N_experiment, N_metabolite];\n",
      "  real controlled_concentration[N_experiment, N_controlled];\n",
      "  real measured_flux[N_experiment];\n",
      "  int<lower=0,upper=1> LIKELIHOOD;\n",
      "  vector<lower=0>[N_metabolite] sigma_metabolite;\n",
      "  real<lower=0> sigma_flux;\n",
      "  vector[3] enzyme_parameter_mean;\n",
      "  vector<lower=0>[3] enzyme_parameter_sd;\n",
      "  real K_I_mean;\n",
      "  real K_I_sd;\n",
      "  real rel_tol;\n",
      "  real f_tol;\n",
      "  int max_steps;\n",
      "}\n",
      "parameters {\n",
      "  vector<lower=0>[4] k_cat;\n",
      "  vector<lower=0>[4] K_eq;\n",
      "  vector<lower=0>[4] K_m;\n",
      "  real<lower=0> K_I;\n",
      "}\n",
      "transformed parameters {\n",
      "  matrix[N_experiment, N_metabolite] metabolite_hat; \n",
      "  real flux_hat[N_experiment, 4]; \n",
      "  for (e in 1:N_experiment){\n",
      "    vector[13] theta = append_row(append_row(append_row(k_cat, K_eq), K_m), K_I);\n",
      "    int x_i[0];\n",
      "    metabolite_hat[e] = algebra_solver(reaction_steady_state_system,\n",
      "                                       rep_vector(0.1, 3),\n",
      "                                       to_vector(theta),\n",
      "                                       controlled_concentration[e],\n",
      "                                       x_i,\n",
      "                                       rel_tol, f_tol, max_steps)';\n",
      "    flux_hat[e] = flux_equations(metabolite_hat[e]', theta, controlled_concentration[e]);\n",
      "  }\n",
      "}\n",
      "model {\n",
      "  // priors\n",
      "  k_cat ~ lognormal(enzyme_parameter_mean[1], enzyme_parameter_sd[1]);\n",
      "  K_eq ~ lognormal(enzyme_parameter_mean[2], enzyme_parameter_sd[2]);\n",
      "  K_m ~ lognormal(enzyme_parameter_mean[3], enzyme_parameter_sd[3]);\n",
      "  K_I ~ lognormal(K_I_mean, K_I_sd);\n",
      "  // measurement model\n",
      "  if (LIKELIHOOD == 1){\n",
      "    for (e in 1:N_experiment){\n",
      "      measured_flux[e] ~ normal(flux_hat[e], sigma_flux);\n",
      "      measured_metabolite[e] ~ normal(metabolite_hat[e], sigma_metabolite);\n",
      "    }\n",
      "  }\n",
      "}\n",
      "generated quantities {\n",
      "  real metabolite_pred[N_experiment, N_metabolite];\n",
      "  for (e in 1:N_experiment){\n",
      "    for (m in 1:N_metabolite){\n",
      "      metabolite_pred[e, m] = normal_rng(metabolite_hat[e, m], sigma_metabolite[m]);\n",
      "    }\n",
      "  }\n",
      "}\n",
      "\n"
     ]
    }
   ],
   "source": [
    "model = pystan.StanModel(file='reaction_model.stan')\n",
    "print(model.model_code)"
   ]
  },
  {
   "cell_type": "markdown",
   "metadata": {},
   "source": [
    "The model includes the file `functions.stan` and references two functions from it, `flux_equations` and `reaction_steady_state_system`. Here are their definitions:"
   ]
  },
  {
   "cell_type": "code",
   "execution_count": 5,
   "metadata": {},
   "outputs": [
    {
     "name": "stdout",
     "output_type": "stream",
     "text": [
      "real[] flux_equations(vector X, vector theta, real[] x_r){\n",
      "  real E[4]      = x_r[1:4];\n",
      "  real S         = x_r[5];\n",
      "  real P         = x_r[6];\n",
      "  real k_cat[4]  = to_array_1d(theta[1:4]);\n",
      "  real K_eq[4]   = to_array_1d(theta[5:8]);\n",
      "  real K_m[4]    = to_array_1d(theta[9:12]);\n",
      "  real K_I       = theta[13];\n",
      "\n",
      "  real fluxes[4];\n",
      "  fluxes[1] = E[1] * k_cat[1] * (S    - X[1] / K_eq[1]) * inv(S    + K_m[1] + X[1] / K_eq[1]);\n",
      "  fluxes[2] = E[2] * k_cat[2] * (X[1] - X[2] / K_eq[2]) * inv(X[1] + K_m[2] + X[2] / K_eq[2]) * inv(1 / (1 + X[3] / K_I));\n",
      "  fluxes[3] = E[3] * k_cat[3] * (X[2] - X[3] / K_eq[3]) * inv(X[2] + K_m[3] + X[3] / K_eq[3]);\n",
      "  fluxes[4] = E[4] * k_cat[4] * (X[3] - P    / K_eq[4]) * inv(X[3] + K_m[4] + P    / K_eq[4]);\n",
      "  return fluxes;\n",
      "}\n",
      "vector reaction_steady_state_system(vector y, vector theta, real[] x_r, int[] x_i){\n",
      "  \n",
      "  real flux[4] = flux_equations(y, theta, x_r);\n",
      "\n",
      "  vector[3] roots;\n",
      "\n",
      "  roots[1] = flux[1] - flux[2];\n",
      "  roots[2] = flux[2] - flux[3];\n",
      "  roots[3] = flux[3] - flux[4];\n",
      "  return roots;\n",
      "}\n",
      "\n"
     ]
    }
   ],
   "source": [
    "with open(\"functions.stan\", \"r\") as f:\n",
    "    print(f.read())"
   ]
  },
  {
   "cell_type": "markdown",
   "metadata": {},
   "source": [
    "## Configure the model\n",
    "\n",
    "Next we need to make some configuration choices. These include some hardcoded parameters that set the model's prior distributions and some numbers that configure the algebra solver.\n",
    "\n",
    "`sigma_metabolite` and `sigma_flux` represent how accurate we think the experimental measurements (i.e. $X_1, X_2, X_3, v$) were. The lower they are, the less we expect the true values to deviate from the measured values. This is a slightly tricky idea as all potential sources of error need to be taken into account, as well as the final chemical analysis. For example, deviations in the controlled enzyme/substrate/product concentrations would also cause errors. I chose 0.05 and 0.02 more or less arbitrarily.\n",
    "\n",
    "`enzyme_parameter_mean`, `enzyme_parameter_sd`, `K_I_mean` and `K_I_sd` should represent the available prior information about the kinetic parameters. They are locations and scales for lognormal distributions, chosen roughly based on Svetlana's example.\n",
    "\n",
    "`rel_tol`, `f_tol` and `max_steps` are [control parameters](https://mc-stan.org/docs/2_18/stan-users-guide/algebra-control-section.html) for the algebra solver. `f_tol` is the default value, whereas `rel_tol` is lower than the default (the default is 1e-6) and `max_steps` is higher (the default is 1e3). The combined effect is to make the solver a bit more sensitive but also a bit slower than the default."
   ]
  },
  {
   "cell_type": "code",
   "execution_count": 27,
   "metadata": {},
   "outputs": [],
   "source": [
    "# how accurate were the measurements for each metabolite?\n",
    "sigma_metabolite = [0.05, 0.05, 0.05]\n",
    "\n",
    "# how accurate were the flux measurements?\n",
    "sigma_flux = 0.02\n",
    "\n",
    "# mean and sd of log priors...\n",
    "# ...enzyme parameter\n",
    "enzyme_parameter_mean = [0, 0, 0]\n",
    "enzyme_parameter_sd = [0.5, 0.5, 0.5]\n",
    "# ...inhibition parameter\n",
    "K_I_mean = 0\n",
    "K_I_sd = 0.5\n",
    "\n",
    "# equation solver parameters\n",
    "rel_tol = 1e-7\n",
    "f_tol = 1e-6\n",
    "max_steps = int(1e6)"
   ]
  },
  {
   "cell_type": "markdown",
   "metadata": {},
   "source": [
    "Here is an illustration of the prior distributions for the kinetic parameters. Ideally these distributions' areas should correspond to the available information. For example, it should be pretty unlikely that any of the parameters will have a value greater than 3 or lower than 0.1."
   ]
  },
  {
   "cell_type": "code",
   "execution_count": 41,
   "metadata": {},
   "outputs": [
    {
     "data": {
      "image/png": "[encoded data removed]",
      "text/plain": [
       "<Figure size 1080x216 with 4 Axes>"
      ]
     },
     "metadata": {
      "needs_background": "light"
     },
     "output_type": "display_data"
    }
   ],
   "source": [
    "def plot_lognormal(ax, loc, scale, upper=4):\n",
    "    xx = np.linspace(0, upper, 200)\n",
    "    yy = lognorm.pdf(xx, s=scale, loc=loc)\n",
    "    ax.plot(xx, yy)\n",
    "    ax.set(xlabel='Parameter value')\n",
    "\n",
    "f, axes = plt.subplots(1, 4, figsize=[15, 3], sharey=True)\n",
    "    \n",
    "f.suptitle('Prior distributions for kinetic parameters', y=1.04)\n",
    "axes[0].set_ylabel('Probability density')\n",
    "for param_name, loc, scale, ax in zip(['k_cat', 'K_eq', 'K_m', 'K_I'],\n",
    "                                      [*enzyme_parameter_mean, K_I_mean],\n",
    "                                      [*enzyme_parameter_sd, K_I_sd],\n",
    "                                      axes):\n",
    "    plot_lognormal(ax, loc, scale)\n",
    "    ax.set_title(param_name, y=0.9)\n",
    "    \n",
    "\n",
    "plt.savefig('output/lognormal.png')\n",
    "plt.show()"
   ]
  },
  {
   "cell_type": "markdown",
   "metadata": {},
   "source": [
    "The next cell turns our configuration and experimental data into suitable input for the Stan model. Note that two data dictionaries are created, `data_prior` and `data_posterior`, which differ only in the value of the key `LIKELIHOOD`. This is so that we can run the model both with and without its measurement component."
   ]
  },
  {
   "cell_type": "code",
   "execution_count": 28,
   "metadata": {},
   "outputs": [
    {
     "name": "stdout",
     "output_type": "stream",
     "text": [
      "data_posterior:\n"
     ]
    },
    {
     "data": {
      "text/plain": [
       "{'N_metabolite': 3,\n",
       " 'N_controlled': 6,\n",
       " 'N_experiment': 4,\n",
       " 'measured_metabolite':         X1   X2    X3\n",
       " Ref   1.00  1.0  1.00\n",
       " Ex_1  0.90  0.9  0.75\n",
       " Ex_2  0.90  1.2  1.10\n",
       " Ex_3  0.65  0.9  1.30,\n",
       " 'measured_flux': Ref     0.10\n",
       " Ex_1    0.11\n",
       " Ex_2    0.12\n",
       " Ex_3    0.05\n",
       " Name: v, dtype: float64,\n",
       " 'controlled_concentration':       E1  E2  E3  E4    s  p\n",
       " Ref    1   1   1   1  1.0  1\n",
       " Ex_1   1   1   1   2  1.0  1\n",
       " Ex_2   1   2   1   1  1.0  1\n",
       " Ex_3   1   1   1   1  0.5  2,\n",
       " 'sigma_metabolite': [0.05, 0.05, 0.05],\n",
       " 'sigma_flux': 0.02,\n",
       " 'enzyme_parameter_mean': [0, 0, 0],\n",
       " 'enzyme_parameter_sd': [0.5, 0.5, 0.5],\n",
       " 'K_I_mean': 0,\n",
       " 'K_I_sd': 0.5,\n",
       " 'rel_tol': 1e-07,\n",
       " 'f_tol': 1e-06,\n",
       " 'max_steps': 1000000,\n",
       " 'LIKELIHOOD': 1}"
      ]
     },
     "metadata": {},
     "output_type": "display_data"
    }
   ],
   "source": [
    "experiments = ['Ref', 'Ex_1', 'Ex_2', 'Ex_3']\n",
    "controlled_concentrations = ['E1', 'E2', 'E3', 'E4', 's', 'p']\n",
    "enzymes = ['E1', 'E2', 'E3', 'E4']\n",
    "metabolites = ['X1', 'X2', 'X3']\n",
    "flux = 'v'\n",
    "\n",
    "model_data = {\n",
    "    \n",
    "    # experiment results\n",
    "    'N_metabolite': len(metabolites),\n",
    "    'N_controlled': len(controlled_concentrations),\n",
    "    'N_experiment': len(experiments),\n",
    "    'measured_metabolite': data.loc[experiments, metabolites],\n",
    "    'measured_flux': data.loc[experiments, flux],\n",
    "    'controlled_concentration': data.loc[experiments, controlled_concentrations],\n",
    "    \n",
    "    # hardcoded priors\n",
    "    'sigma_metabolite': sigma_metabolite,\n",
    "    'sigma_flux': sigma_flux,\n",
    "    'enzyme_parameter_mean': enzyme_parameter_mean,\n",
    "    'enzyme_parameter_sd': enzyme_parameter_sd,\n",
    "    'K_I_mean': K_I_mean,\n",
    "    'K_I_sd': K_I_sd,\n",
    "    \n",
    "    # config\n",
    "    'rel_tol': rel_tol,\n",
    "    'f_tol': f_tol,\n",
    "    'max_steps': max_steps\n",
    "}\n",
    "\n",
    "data_prior = {**model_data, **{'LIKELIHOOD': 0}}\n",
    "data_posterior = {**model_data, **{'LIKELIHOOD': 1}}\n",
    "\n",
    "print(\"data_posterior:\")\n",
    "display(data_posterior)"
   ]
  },
  {
   "cell_type": "markdown",
   "metadata": {},
   "source": [
    "This cell fits the model twice (once for `data_prior` and once for `data_posterior`), then puts the output into a nice format (an arviz [`InferenceData`](https://arviz-devs.github.io/arviz/notebooks/XarrayforArviZ.html) object) and caches them."
   ]
  },
  {
   "cell_type": "code",
   "execution_count": 29,
   "metadata": {},
   "outputs": [
    {
     "data": {
      "text/html": [
       "<div>\n",
       "<style scoped>\n",
       "    .dataframe tbody tr th:only-of-type {\n",
       "        vertical-align: middle;\n",
       "    }\n",
       "\n",
       "    .dataframe tbody tr th {\n",
       "        vertical-align: top;\n",
       "    }\n",
       "\n",
       "    .dataframe thead th {\n",
       "        text-align: right;\n",
       "    }\n",
       "</style>\n",
       "<table border=\"1\" class=\"dataframe\">\n",
       "  <thead>\n",
       "    <tr style=\"text-align: right;\">\n",
       "      <th></th>\n",
       "      <th>mean</th>\n",
       "      <th>sd</th>\n",
       "      <th>mc error</th>\n",
       "      <th>hpd 3%</th>\n",
       "      <th>hpd 97%</th>\n",
       "      <th>eff_n</th>\n",
       "      <th>r_hat</th>\n",
       "    </tr>\n",
       "  </thead>\n",
       "  <tbody>\n",
       "    <tr>\n",
       "      <th>k_cat[0]</th>\n",
       "      <td>0.75</td>\n",
       "      <td>0.20</td>\n",
       "      <td>0.01</td>\n",
       "      <td>0.42</td>\n",
       "      <td>1.12</td>\n",
       "      <td>445.0</td>\n",
       "      <td>1.00</td>\n",
       "    </tr>\n",
       "    <tr>\n",
       "      <th>k_cat[1]</th>\n",
       "      <td>0.55</td>\n",
       "      <td>0.18</td>\n",
       "      <td>0.01</td>\n",
       "      <td>0.29</td>\n",
       "      <td>0.90</td>\n",
       "      <td>386.0</td>\n",
       "      <td>1.00</td>\n",
       "    </tr>\n",
       "    <tr>\n",
       "      <th>k_cat[2]</th>\n",
       "      <td>0.68</td>\n",
       "      <td>0.17</td>\n",
       "      <td>0.01</td>\n",
       "      <td>0.44</td>\n",
       "      <td>1.07</td>\n",
       "      <td>273.0</td>\n",
       "      <td>1.01</td>\n",
       "    </tr>\n",
       "    <tr>\n",
       "      <th>k_cat[3]</th>\n",
       "      <td>0.66</td>\n",
       "      <td>0.18</td>\n",
       "      <td>0.01</td>\n",
       "      <td>0.41</td>\n",
       "      <td>1.00</td>\n",
       "      <td>207.0</td>\n",
       "      <td>1.01</td>\n",
       "    </tr>\n",
       "    <tr>\n",
       "      <th>K_eq[0]</th>\n",
       "      <td>1.66</td>\n",
       "      <td>0.21</td>\n",
       "      <td>0.01</td>\n",
       "      <td>1.32</td>\n",
       "      <td>2.03</td>\n",
       "      <td>300.0</td>\n",
       "      <td>1.01</td>\n",
       "    </tr>\n",
       "    <tr>\n",
       "      <th>K_eq[1]</th>\n",
       "      <td>1.65</td>\n",
       "      <td>0.16</td>\n",
       "      <td>0.01</td>\n",
       "      <td>1.34</td>\n",
       "      <td>1.91</td>\n",
       "      <td>438.0</td>\n",
       "      <td>1.00</td>\n",
       "    </tr>\n",
       "    <tr>\n",
       "      <th>K_eq[2]</th>\n",
       "      <td>1.79</td>\n",
       "      <td>0.22</td>\n",
       "      <td>0.01</td>\n",
       "      <td>1.45</td>\n",
       "      <td>2.21</td>\n",
       "      <td>597.0</td>\n",
       "      <td>1.00</td>\n",
       "    </tr>\n",
       "    <tr>\n",
       "      <th>K_eq[3]</th>\n",
       "      <td>1.87</td>\n",
       "      <td>0.12</td>\n",
       "      <td>0.01</td>\n",
       "      <td>1.65</td>\n",
       "      <td>2.09</td>\n",
       "      <td>247.0</td>\n",
       "      <td>1.02</td>\n",
       "    </tr>\n",
       "    <tr>\n",
       "      <th>K_m[0]</th>\n",
       "      <td>1.16</td>\n",
       "      <td>0.54</td>\n",
       "      <td>0.03</td>\n",
       "      <td>0.39</td>\n",
       "      <td>2.13</td>\n",
       "      <td>461.0</td>\n",
       "      <td>1.01</td>\n",
       "    </tr>\n",
       "    <tr>\n",
       "      <th>K_m[1]</th>\n",
       "      <td>1.41</td>\n",
       "      <td>0.74</td>\n",
       "      <td>0.05</td>\n",
       "      <td>0.33</td>\n",
       "      <td>2.64</td>\n",
       "      <td>335.0</td>\n",
       "      <td>1.01</td>\n",
       "    </tr>\n",
       "    <tr>\n",
       "      <th>K_m[2]</th>\n",
       "      <td>1.35</td>\n",
       "      <td>0.64</td>\n",
       "      <td>0.04</td>\n",
       "      <td>0.42</td>\n",
       "      <td>2.60</td>\n",
       "      <td>269.0</td>\n",
       "      <td>1.01</td>\n",
       "    </tr>\n",
       "    <tr>\n",
       "      <th>K_m[3]</th>\n",
       "      <td>1.33</td>\n",
       "      <td>0.70</td>\n",
       "      <td>0.02</td>\n",
       "      <td>0.33</td>\n",
       "      <td>2.54</td>\n",
       "      <td>276.0</td>\n",
       "      <td>1.00</td>\n",
       "    </tr>\n",
       "    <tr>\n",
       "      <th>K_I</th>\n",
       "      <td>1.51</td>\n",
       "      <td>0.70</td>\n",
       "      <td>0.01</td>\n",
       "      <td>0.52</td>\n",
       "      <td>2.81</td>\n",
       "      <td>520.0</td>\n",
       "      <td>0.99</td>\n",
       "    </tr>\n",
       "  </tbody>\n",
       "</table>\n",
       "</div>"
      ],
      "text/plain": [
       "          mean    sd  mc error  hpd 3%  hpd 97%  eff_n  r_hat\n",
       "k_cat[0]  0.75  0.20      0.01    0.42     1.12  445.0   1.00\n",
       "k_cat[1]  0.55  0.18      0.01    0.29     0.90  386.0   1.00\n",
       "k_cat[2]  0.68  0.17      0.01    0.44     1.07  273.0   1.01\n",
       "k_cat[3]  0.66  0.18      0.01    0.41     1.00  207.0   1.01\n",
       "K_eq[0]   1.66  0.21      0.01    1.32     2.03  300.0   1.01\n",
       "K_eq[1]   1.65  0.16      0.01    1.34     1.91  438.0   1.00\n",
       "K_eq[2]   1.79  0.22      0.01    1.45     2.21  597.0   1.00\n",
       "K_eq[3]   1.87  0.12      0.01    1.65     2.09  247.0   1.02\n",
       "K_m[0]    1.16  0.54      0.03    0.39     2.13  461.0   1.01\n",
       "K_m[1]    1.41  0.74      0.05    0.33     2.64  335.0   1.01\n",
       "K_m[2]    1.35  0.64      0.04    0.42     2.60  269.0   1.01\n",
       "K_m[3]    1.33  0.70      0.02    0.33     2.54  276.0   1.00\n",
       "K_I       1.51  0.70      0.01    0.52     2.81  520.0   0.99"
      ]
     },
     "execution_count": 29,
     "metadata": {},
     "output_type": "execute_result"
    }
   ],
   "source": [
    "fit_prior = model.sampling(data=data_prior, iter=300, chains=3)\n",
    "fit_posterior = model.sampling(data=data_posterior, iter=300, chains=3)\n",
    "\n",
    "infd = arviz.from_pystan(posterior=fit_posterior,\n",
    "                         posterior_predictive='metabolite_pred',\n",
    "                         prior_predictive='metabolite_pred',\n",
    "                         observed_data='measured_metabolite',\n",
    "                         prior=fit_prior,\n",
    "                         coords={'experiments': experiments,\n",
    "                                 'metabolites': metabolites,\n",
    "                                 'enzymes': ['E1', 'E2', 'E3', 'E4']},\n",
    "                         dims={'k_cat': ['enzymes'], \n",
    "                               'K_eq': ['enzymes'],\n",
    "                               'K_m': ['enzymes'],\n",
    "                               'measured_metabolite': ['experiments', 'metabolites'],\n",
    "                               'metabolite_pred': ['experiments', 'metabolites'],\n",
    "                               'metabolite_hat': ['experiments', 'metabolites']})\n",
    "infd.to_netcdf('output/stan_ode_model_output.nc')\n",
    "\n",
    "arviz.summary(infd.posterior, var_names=['k_cat', 'K_eq', 'K_m', 'K_I'])"
   ]
  },
  {
   "cell_type": "markdown",
   "metadata": {},
   "source": [
    "A look at the fit summary, together with the lack of diagnostic warnings in the cell above, indicates that the model has probably converged successfully.\n",
    "\n",
    "To find out what the model learned from the data, we can look at the prior and posterior distributions of the parameters. In addition, in this case we also have access to the true parameter values. The next two cells plot the prior and posterior distributions of the kinetic parameters alongside their true values."
   ]
  },
  {
   "cell_type": "code",
   "execution_count": 47,
   "metadata": {},
   "outputs": [
    {
     "data": {
      "image/png": "[encoded data removed]",
      "text/plain": [
       "<Figure size 1080x576 with 12 Axes>"
      ]
     },
     "metadata": {
      "needs_background": "light"
     },
     "output_type": "display_data"
    }
   ],
   "source": [
    "parameters = ['k_cat', 'K_eq', 'K_m']\n",
    "\n",
    "true_enzyme_specific_parameter_values = pd.DataFrame({\n",
    "    'k_cat': [0.5, 1, 0.5, 0.5],\n",
    "    'K_eq': 2,\n",
    "    'K_m': 1\n",
    "}, index=['E1', 'E2', 'E3', 'E4'])\n",
    "\n",
    "true_K_I_value = 1\n",
    "\n",
    "bins = np.linspace(0, 5, 30)\n",
    "\n",
    "f, axes = plt.subplots(3, 4, figsize=[15, 8], sharex=True, sharey=True)\n",
    "\n",
    "for row, par in zip(axes, parameters):\n",
    "    samples_prior = infd.prior[par].to_dataframe().unstack()[par]\n",
    "    samples_posterior = infd.posterior[par].to_dataframe().unstack()[par]\n",
    "    for enzyme, ax in zip(enzymes, row):\n",
    "        h_prior = ax.hist(samples_prior[enzyme], alpha=0.6, bins=bins, density=True, label='Prior')\n",
    "        h_posterior = ax.hist(samples_posterior[enzyme], alpha=0.6, bins=bins, density=True, label='Posterior')\n",
    "        true_value_line = ax.axvline(true_enzyme_specific_parameter_values.loc[enzyme, par], \n",
    "                                     color='r', label='True value', linestyle='--')\n",
    "        if ax == row[0]:\n",
    "            ax.set_ylabel('Density')\n",
    "        if ax in axes[-1]:\n",
    "            ax.set_xlabel('Parameter value')\n",
    "        ax.set_title(f'{par} ({enzyme})', y=0.85)\n",
    "        leg = ax.legend(frameon=False)\n",
    "\n",
    "f.suptitle(\"What the model learned about the enzyme-specific parameters\", fontsize=15, y=1.04)\n",
    "plt.tight_layout()\n",
    "plt.savefig('output/enzyme_parameter_histograms.png')"
   ]
  },
  {
   "cell_type": "code",
   "execution_count": 48,
   "metadata": {},
   "outputs": [
    {
     "data": {
      "image/png": "[encoded data removed]",
      "text/plain": [
       "<Figure size 432x288 with 1 Axes>"
      ]
     },
     "metadata": {
      "needs_background": "light"
     },
     "output_type": "display_data"
    }
   ],
   "source": [
    "bins = np.linspace(0, 5, 30)\n",
    "par = 'K_I'\n",
    "samples_prior = infd.prior[par].to_dataframe()[par]\n",
    "samples_posterior = infd.posterior[par].to_dataframe()[par]\n",
    "\n",
    "f, ax = plt.subplots()\n",
    "h_prior = ax.hist(samples_prior, alpha=0.6, bins=bins, density=True, label='Prior')\n",
    "h_posterior = ax.hist(samples_posterior, alpha=0.6, bins=bins, density=True, label='Posterior')\n",
    "true_value_line = ax.axvline(true_K_I_value, color='r', label='True value', linestyle='--')\n",
    "leg = ax.legend(frameon=False)\n",
    "text = ax.set(title='What the model learned about K_I',\n",
    "              xlabel='Parameter value',\n",
    "              ylabel='Density')\n",
    "\n",
    "plt.savefig('output/K_I_histogram.png')"
   ]
  },
  {
   "cell_type": "markdown",
   "metadata": {},
   "source": [
    "The model got fairly close to the true values, though it seems to not quite have got the $K_{eq}$ parameters quite right. Possibly this is because the prior distributions for these parameters give very low density to the true value."
   ]
  },
  {
   "cell_type": "markdown",
   "metadata": {},
   "source": [
    "Finally, the next cell does a basic prior and posterior predictive checks, comparing the observed experimental results with those expected by the model's prior and posterior distributions."
   ]
  },
  {
   "cell_type": "code",
   "execution_count": 107,
   "metadata": {},
   "outputs": [
    {
     "data": {
      "image/png": "[encoded data removed]",
      "text/plain": [
       "<Figure size 1080x360 with 2 Axes>"
      ]
     },
     "metadata": {
      "needs_background": "light"
     },
     "output_type": "display_data"
    }
   ],
   "source": [
    "obs = infd.observed_data.to_dataframe()\n",
    "posterior_pred = infd.posterior_predictive['metabolite_pred'].to_dataframe()\n",
    "prior_pred = infd.prior_predictive['metabolite_pred'].to_dataframe()\n",
    "\n",
    "g_posterior = posterior_pred.groupby(['experiments', 'metabolites'])\n",
    "g_prior =  prior_pred.groupby(['experiments', 'metabolites'])\n",
    "\n",
    "f, axes = plt.subplots(1, 2, figsize=[15, 5], sharey=True)\n",
    "\n",
    "for ax, g, name in zip(axes, [g_prior, g_posterior], ['prior', 'posterior']):\n",
    "    lower = g['metabolite_pred'].quantile(0.1).rename('lower')\n",
    "    mean = g['metabolite_pred'].mean().rename('mean')\n",
    "    upper = g['metabolite_pred'].quantile(0.9).rename('upper')\n",
    "    \n",
    "    xx = np.linspace(mean.min(), mean.max(), 10)\n",
    "    scatter = ax.scatter(mean.reindex(obs.index), obs, marker='x')\n",
    "    vlines = ax.vlines(mean, lower, upper, color='tab:orange', zorder=0, label='10%-90% credible interval')\n",
    "    y_equals_x_line = ax.plot(xx, xx, color='r', linestyle='--', label='y=x')\n",
    "    text = ax.set(xlabel=f'{name.capitalize()} mean concentration',\n",
    "                  ylabel='Observed concentration')\n",
    "    title = ax.set_title(f'{name.capitalize()} predictive check', y=0.8)\n",
    "\n",
    "plt.figlegend([vlines, y_equals_x_line[0], scatter], \n",
    "              ['10%-90% credible interval', 'y=x', 'Metabolite/experiment'],\n",
    "              ncol=3, loc='lower center', bbox_to_anchor=[0.45, 0.9])\n",
    "plt.savefig('output/checks.png')"
   ]
  },
  {
   "cell_type": "markdown",
   "metadata": {},
   "source": [
    "This is quite a nice result. The model learned a lot from the data, as shown by the much smaller credible intervals in the the right hand graph. In addition, in both graphs the credible intervals cover the observed values, with no particular pattern in the discrepancies. This suggests that, even though the model didn't manage to pick out all the correct parameter values, it has still done a pretty good job of extracting the information contained in the experimental data. In order to fully identify $K_{eq}$ and $K_{m}$, we could try doing new experiments or making the model's prior distributions more realistic. An easy first step would be to update the priors for `K_eq` to give more density to the true values - presumably it would have been known in advance that a value of 2 was at least plausible. More ambitiously, it might also be worth allowing the kinetic parameters' distributions to be correlated, and to include information about which correlations are more or less likely. See [here](https://github.com/markusheinonen/bamfa) for an example of this kind of approach."
   ]
  }
 ],
 "metadata": {
  "kernelspec": {
   "display_name": "Python 3",
   "language": "python",
   "name": "python3"
  },
  "language_info": {
   "codemirror_mode": {
    "name": "ipython",
    "version": 3
   },
   "file_extension": ".py",
   "mimetype": "text/x-python",
   "name": "python",
   "nbconvert_exporter": "python",
   "pygments_lexer": "ipython3",
   "version": "3.7.2"
  }
 },
 "nbformat": 4,
 "nbformat_minor": 2
}
