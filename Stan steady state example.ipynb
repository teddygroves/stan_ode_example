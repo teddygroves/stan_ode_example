{
 "cells": [
  {
   "cell_type": "code",
   "execution_count": 1,
   "metadata": {},
   "outputs": [
    {
     "data": {
      "text/html": [
       "<div>\n",
       "<style scoped>\n",
       "    .dataframe tbody tr th:only-of-type {\n",
       "        vertical-align: middle;\n",
       "    }\n",
       "\n",
       "    .dataframe tbody tr th {\n",
       "        vertical-align: top;\n",
       "    }\n",
       "\n",
       "    .dataframe thead th {\n",
       "        text-align: right;\n",
       "    }\n",
       "</style>\n",
       "<table border=\"1\" class=\"dataframe\">\n",
       "  <thead>\n",
       "    <tr style=\"text-align: right;\">\n",
       "      <th></th>\n",
       "      <th>E1</th>\n",
       "      <th>E2</th>\n",
       "      <th>E3</th>\n",
       "      <th>E4</th>\n",
       "      <th>s</th>\n",
       "      <th>p</th>\n",
       "      <th>X1</th>\n",
       "      <th>X2</th>\n",
       "      <th>X3</th>\n",
       "      <th>v</th>\n",
       "    </tr>\n",
       "  </thead>\n",
       "  <tbody>\n",
       "    <tr>\n",
       "      <th>Ex_1</th>\n",
       "      <td>1</td>\n",
       "      <td>1</td>\n",
       "      <td>1</td>\n",
       "      <td>2</td>\n",
       "      <td>1.0</td>\n",
       "      <td>1</td>\n",
       "      <td>0.90</td>\n",
       "      <td>0.9</td>\n",
       "      <td>0.75</td>\n",
       "      <td>0.007639</td>\n",
       "    </tr>\n",
       "    <tr>\n",
       "      <th>Ex_2</th>\n",
       "      <td>1</td>\n",
       "      <td>2</td>\n",
       "      <td>1</td>\n",
       "      <td>1</td>\n",
       "      <td>1.0</td>\n",
       "      <td>1</td>\n",
       "      <td>0.90</td>\n",
       "      <td>1.2</td>\n",
       "      <td>1.10</td>\n",
       "      <td>0.120000</td>\n",
       "    </tr>\n",
       "    <tr>\n",
       "      <th>Ex_3</th>\n",
       "      <td>1</td>\n",
       "      <td>1</td>\n",
       "      <td>1</td>\n",
       "      <td>1</td>\n",
       "      <td>0.5</td>\n",
       "      <td>2</td>\n",
       "      <td>0.65</td>\n",
       "      <td>0.9</td>\n",
       "      <td>1.30</td>\n",
       "      <td>0.050000</td>\n",
       "    </tr>\n",
       "    <tr>\n",
       "      <th>Ref</th>\n",
       "      <td>1</td>\n",
       "      <td>1</td>\n",
       "      <td>1</td>\n",
       "      <td>1</td>\n",
       "      <td>1.0</td>\n",
       "      <td>1</td>\n",
       "      <td>0.10</td>\n",
       "      <td>0.1</td>\n",
       "      <td>0.10</td>\n",
       "      <td>0.100000</td>\n",
       "    </tr>\n",
       "  </tbody>\n",
       "</table>\n",
       "</div>"
      ],
      "text/plain": [
       "      E1  E2  E3  E4    s  p    X1   X2    X3         v\n",
       "Ex_1   1   1   1   2  1.0  1  0.90  0.9  0.75  0.007639\n",
       "Ex_2   1   2   1   1  1.0  1  0.90  1.2  1.10  0.120000\n",
       "Ex_3   1   1   1   1  0.5  2  0.65  0.9  1.30  0.050000\n",
       "Ref    1   1   1   1  1.0  1  0.10  0.1  0.10  0.100000"
      ]
     },
     "execution_count": 1,
     "metadata": {},
     "output_type": "execute_result"
    }
   ],
   "source": [
    "import numpy as np\n",
    "import pandas as pd\n",
    "import pystan\n",
    "from matplotlib import pyplot as plt\n",
    "\n",
    "\n",
    "data = pd.read_csv('data.csv', index_col=0)\n",
    "data"
   ]
  },
  {
   "cell_type": "code",
   "execution_count": 2,
   "metadata": {
    "scrolled": true
   },
   "outputs": [
    {
     "name": "stderr",
     "output_type": "stream",
     "text": [
      "INFO:pystan:COMPILING THE C++ CODE FOR MODEL anon_model_b0f1fdce4e13ba3f4e04df3088004f9b NOW.\n"
     ]
    }
   ],
   "source": [
    "model = pystan.StanModel(file='reaction_model.stan')"
   ]
  },
  {
   "cell_type": "code",
   "execution_count": 8,
   "metadata": {},
   "outputs": [
    {
     "name": "stderr",
     "output_type": "stream",
     "text": [
      "WARNING:pystan:10 of 400 iterations ended with a divergence (2.5 %).\n",
      "WARNING:pystan:Try running with adapt_delta larger than 0.95 to remove the divergences.\n"
     ]
    }
   ],
   "source": [
    "t0 = 0\n",
    "tmax = 300\n",
    "nsim = 40\n",
    "experiments = ['Ref', 'Ex_1', 'Ex_2', 'Ex_3']\n",
    "measured_metabolites = ['X1', 'X2', 'X3']\n",
    "known_quantities = ['E1', 'E2', 'E3', 'E4', 's', 'p']\n",
    "N_experiment = len(experiments)\n",
    "\n",
    "rel_tol = 1e-10\n",
    "f_tol = 1e-6\n",
    "max_steps = 1e5\n",
    "\n",
    "model_data = {\n",
    "    'N_known_quantity': len(known_quantities),\n",
    "    'N_measured_metabolite': len(measured_metabolites),\n",
    "    'N_experiment': N_experiment,\n",
    "    'measured_metabolite': data.loc[experiments, measured_metabolites],\n",
    "    'known_quantity': data.loc[experiments, known_quantities],\n",
    "    'rel_tol': rel_tol,\n",
    "    'f_tol': f_tol,\n",
    "    'max_steps': max_steps\n",
    "}\n",
    "fit = model.sampling(data=model_data, iter=200, control={'adapt_delta': 0.95})"
   ]
  },
  {
   "cell_type": "code",
   "execution_count": 9,
   "metadata": {},
   "outputs": [
    {
     "data": {
      "text/plain": [
       "Inference for Stan model: anon_model_b0f1fdce4e13ba3f4e04df3088004f9b.\n",
       "4 chains, each with iter=200; warmup=100; thin=1; \n",
       "post-warmup draws per chain=100, total post-warmup draws=400.\n",
       "\n",
       "                                     mean se_mean     sd   2.5%    25%    50%    75%  97.5%  n_eff   Rhat\n",
       "k_cat[1]                             1.09    0.03   0.64   0.38    0.7   0.94   1.33   2.73    483    1.0\n",
       "k_cat[2]                              1.2    0.02   0.63   0.39   0.77   1.09    1.5   2.82    667    1.0\n",
       "k_cat[3]                             1.19    0.03   0.68   0.36    0.7   1.01    1.5   2.81    440   0.99\n",
       "k_cat[4]                             1.08    0.03   0.59    0.4    0.7   0.94   1.29   2.74    478    1.0\n",
       "K_eq[1]                              0.73    0.01   0.27   0.34   0.54   0.69   0.85   1.48    462    1.0\n",
       "K_eq[2]                              1.26    0.02   0.55   0.47   0.89   1.15   1.49    2.6    684   0.99\n",
       "K_eq[3]                              1.31    0.02   0.56   0.54   0.88   1.21   1.65   2.77    664    1.0\n",
       "K_eq[4]                              1.46    0.02   0.55   0.75   1.11   1.35   1.69   2.74    550    1.0\n",
       "K_m[1]                               1.15    0.03   0.62   0.35   0.71    1.0   1.43   2.82    484   0.99\n",
       "K_m[2]                               1.06    0.03   0.53   0.39   0.68   0.95   1.31   2.45    438    1.0\n",
       "K_m[3]                               1.08    0.02   0.53   0.39   0.69   0.94   1.36   2.48    541    1.0\n",
       "K_m[4]                               1.14    0.02   0.56    0.4   0.72   1.02   1.47   2.49    521    1.0\n",
       "K_I                                  1.15    0.03    0.6    0.4   0.69   1.02   1.47   2.58    388    1.0\n",
       "sigma                                0.54  8.8e-3   0.14   0.35   0.44    0.5   0.61   0.87    245   1.02\n",
       "true_metabolite_concentration[1,1]   0.67  8.1e-3   0.17   0.37   0.55   0.65   0.76   1.04    459    1.0\n",
       "true_metabolite_concentration[2,1]    0.7  7.9e-3   0.21   0.38   0.56   0.68   0.83   1.14    693    1.0\n",
       "true_metabolite_concentration[3,1]    0.8    0.01   0.21   0.45   0.65   0.78   0.93   1.31    377    1.0\n",
       "true_metabolite_concentration[1,2]   1.16    0.01    0.3   0.64   0.95   1.13   1.33   1.83    447    1.0\n",
       "true_metabolite_concentration[2,2]   0.92    0.01   0.28   0.48   0.71   0.89   1.08   1.57    767   0.99\n",
       "true_metabolite_concentration[3,2]   0.86    0.01   0.23    0.5   0.69   0.84   1.01   1.38    409   1.01\n",
       "true_metabolite_concentration[1,3]   0.66  8.0e-3   0.17   0.36   0.54   0.65   0.75   1.05    466    1.0\n",
       "true_metabolite_concentration[2,3]   0.72  8.1e-3   0.21   0.37   0.56   0.69   0.85   1.19    666    1.0\n",
       "true_metabolite_concentration[3,3]   0.81    0.01   0.22   0.46   0.66   0.79   0.93   1.34    366    1.0\n",
       "true_metabolite_concentration[1,4]   0.59  7.0e-3   0.15   0.33   0.48   0.58   0.67   0.92    465    1.0\n",
       "true_metabolite_concentration[2,4]   0.51  5.5e-3   0.15   0.26    0.4   0.49   0.59   0.85    709   0.99\n",
       "true_metabolite_concentration[3,4]   0.49  6.9e-3   0.13   0.28   0.39   0.48   0.56   0.79    355   1.01\n",
       "lp__                                -5.51    0.19    2.7 -11.25  -7.08  -5.31  -3.55  -1.06    193   1.01\n",
       "\n",
       "Samples were drawn using NUTS at Wed Feb  6 18:14:18 2019.\n",
       "For each parameter, n_eff is a crude measure of effective sample size,\n",
       "and Rhat is the potential scale reduction factor on split chains (at \n",
       "convergence, Rhat=1)."
      ]
     },
     "execution_count": 9,
     "metadata": {},
     "output_type": "execute_result"
    }
   ],
   "source": [
    "fit"
   ]
  }
 ],
 "metadata": {
  "kernelspec": {
   "display_name": "Python 3",
   "language": "python",
   "name": "python3"
  },
  "language_info": {
   "codemirror_mode": {
    "name": "ipython",
    "version": 3
   },
   "file_extension": ".py",
   "mimetype": "text/x-python",
   "name": "python",
   "nbconvert_exporter": "python",
   "pygments_lexer": "ipython3",
   "version": "3.7.2"
  }
 },
 "nbformat": 4,
 "nbformat_minor": 2
}
