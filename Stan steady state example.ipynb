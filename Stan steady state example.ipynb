{
 "cells": [
  {
   "cell_type": "code",
   "execution_count": 1,
   "metadata": {},
   "outputs": [],
   "source": [
    "from IPython.display import Image\n",
    "from matplotlib import pyplot as plt\n",
    "from scipy.stats import lognorm\n",
    "import arviz\n",
    "import numpy as np\n",
    "import pandas as pd\n",
    "import pystan\n",
    "plt.style.use('sparse.mplstyle')"
   ]
  },
  {
   "cell_type": "markdown",
   "metadata": {},
   "source": [
    "# Analysing a simple biochemical reaction system using Stan\n",
    "\n",
    "Svetlana kindly sent me an example of a simple biochemical model to help my understanding. This notebook is my attempt to reproduce Svetlana's analysis using Stan.\n",
    "\n",
    "The example concerns a simple linear system of chemical equations with the following structure:"
   ]
  },
  {
   "cell_type": "code",
   "execution_count": 2,
   "metadata": {},
   "outputs": [
    {
     "data": {
      "image/png": "[encoded data removed]",
      "text/plain": [
       "<IPython.core.display.Image object>"
      ]
     },
     "execution_count": 2,
     "metadata": {},
     "output_type": "execute_result"
    }
   ],
   "source": [
    "Image(\"equation.png\")"
   ]
  },
  {
   "cell_type": "markdown",
   "metadata": {},
   "source": [
    "In this picture $s$ and $p$ represent substrate and product concentrations, $X_1$, $X_2$ and $X_3$ represent intermediate metabolite concentrations and $E_1$, $E_2$, $E_3$ and $E_4$ represent concentrations of four different enzymes, each of which catalyses the reaction represented by its arrow.\n",
    "\n",
    "We have a hypothetical scenario where there have been three experiments `Ex_1`, `Ex_2` and `Ex_3`. In each experiment, the system was left for a while with the concentrations of the enzymes, substrate and product being kept fixed while the concentrations of the metabolites were left to vary. Once enough time had passed to be confident that the concentrations were no longer changing, the concentrations of the metabolites were measured. In addition, we have some `Ref` values which serve to normalise our data. Here is how our results might look:"
   ]
  },
  {
   "cell_type": "code",
   "execution_count": 3,
   "metadata": {},
   "outputs": [
    {
     "data": {
      "text/html": [
       "<div>\n",
       "<style scoped>\n",
       "    .dataframe tbody tr th:only-of-type {\n",
       "        vertical-align: middle;\n",
       "    }\n",
       "\n",
       "    .dataframe tbody tr th {\n",
       "        vertical-align: top;\n",
       "    }\n",
       "\n",
       "    .dataframe thead th {\n",
       "        text-align: right;\n",
       "    }\n",
       "</style>\n",
       "<table border=\"1\" class=\"dataframe\">\n",
       "  <thead>\n",
       "    <tr style=\"text-align: right;\">\n",
       "      <th></th>\n",
       "      <th>E1</th>\n",
       "      <th>E2</th>\n",
       "      <th>E3</th>\n",
       "      <th>E4</th>\n",
       "      <th>s</th>\n",
       "      <th>p</th>\n",
       "      <th>X1</th>\n",
       "      <th>X2</th>\n",
       "      <th>X3</th>\n",
       "      <th>v</th>\n",
       "    </tr>\n",
       "  </thead>\n",
       "  <tbody>\n",
       "    <tr>\n",
       "      <th>Ex_1</th>\n",
       "      <td>1</td>\n",
       "      <td>1</td>\n",
       "      <td>1</td>\n",
       "      <td>2</td>\n",
       "      <td>1.0</td>\n",
       "      <td>1</td>\n",
       "      <td>0.90</td>\n",
       "      <td>0.9</td>\n",
       "      <td>0.75</td>\n",
       "      <td>0.007639</td>\n",
       "    </tr>\n",
       "    <tr>\n",
       "      <th>Ex_2</th>\n",
       "      <td>1</td>\n",
       "      <td>2</td>\n",
       "      <td>1</td>\n",
       "      <td>1</td>\n",
       "      <td>1.0</td>\n",
       "      <td>1</td>\n",
       "      <td>0.90</td>\n",
       "      <td>1.2</td>\n",
       "      <td>1.10</td>\n",
       "      <td>0.120000</td>\n",
       "    </tr>\n",
       "    <tr>\n",
       "      <th>Ex_3</th>\n",
       "      <td>1</td>\n",
       "      <td>1</td>\n",
       "      <td>1</td>\n",
       "      <td>1</td>\n",
       "      <td>0.5</td>\n",
       "      <td>2</td>\n",
       "      <td>0.65</td>\n",
       "      <td>0.9</td>\n",
       "      <td>1.30</td>\n",
       "      <td>0.050000</td>\n",
       "    </tr>\n",
       "    <tr>\n",
       "      <th>Ref</th>\n",
       "      <td>1</td>\n",
       "      <td>1</td>\n",
       "      <td>1</td>\n",
       "      <td>1</td>\n",
       "      <td>1.0</td>\n",
       "      <td>1</td>\n",
       "      <td>0.10</td>\n",
       "      <td>0.1</td>\n",
       "      <td>0.10</td>\n",
       "      <td>0.100000</td>\n",
       "    </tr>\n",
       "  </tbody>\n",
       "</table>\n",
       "</div>"
      ],
      "text/plain": [
       "      E1  E2  E3  E4    s  p    X1   X2    X3         v\n",
       "Ex_1   1   1   1   2  1.0  1  0.90  0.9  0.75  0.007639\n",
       "Ex_2   1   2   1   1  1.0  1  0.90  1.2  1.10  0.120000\n",
       "Ex_3   1   1   1   1  0.5  2  0.65  0.9  1.30  0.050000\n",
       "Ref    1   1   1   1  1.0  1  0.10  0.1  0.10  0.100000"
      ]
     },
     "execution_count": 3,
     "metadata": {},
     "output_type": "execute_result"
    }
   ],
   "source": [
    "data = pd.read_csv('data.csv', index_col=0)\n",
    "data"
   ]
  },
  {
   "cell_type": "markdown",
   "metadata": {},
   "source": [
    "After having done the experiment, we would now like to know what we have learned about our enzymes. More specifically, suppose we know that the reactions' rates can be parameterised as follows\n",
    "\n",
    "\n",
    "$$\n",
    "\\begin{align*}\n",
    "v_1&=E_1\\cdot\\frac{kcat_1\\cdot(S-X_1/Keq_1)}{S+Km_1+X_1/Keq_1} \\\\\n",
    "v_2&=E_2\\cdot\\frac{kcat_2\\cdot(X_1-X_2/Keq_2)}{X_1+Km_2+X_2/Keq_2}\\cdot\\frac{1}{1+X_3/KI_2} \\\\\n",
    "v_3&=E_3\\cdot\\frac{kcat_3\\cdot(X_2-X_3/Keq_3)}{X_2+Km_3+X_3/Keq_3} \\\\\n",
    "v_4&=E_4\\cdot\\frac{kcat_4\\cdot(X_3-P/Keq_4)}{X_3+Km_4+P/Keq_4} \\\\\n",
    "\\end{align*}\n",
    "$$\n",
    "\n",
    "where $kcat$, $Km$ and $Keq$ are enzyme-specific constants and $KI_2$ represents the extent to which the concentration of metabolite $X_3$ inhibits reaction 2.\n",
    "\n",
    "Together with the graph above, these rate equations imply a system of ODEs describing how the concentrations will change over time:\n",
    "\n",
    "$$\n",
    "\\begin{align*}\n",
    "&\\frac{dS}{dt} = -v1 \\\\\n",
    "&\\frac{dX_1}{dt} = v1-v2 \\\\\n",
    "&\\frac{dX_2}{dt} = v2-v3 \\\\\n",
    "&\\frac{dX_3}{dt} = v3-v4 \\\\\n",
    "&\\frac{dP}{dt} = v4 \\\\\n",
    "&\\end{align*}\n",
    "$$\n",
    "\n",
    "In order to learn from our experimental data, we will use the following method:\n",
    "\n",
    "1. Come up with a plausible prior distribution for each of the system's parameters.\n",
    "2. Come up with numbers describing the accuracy of the measurements\n",
    "3. Combine our prior distributions with our measurement model using Bayesian inference.\n",
    "\n",
    "The trickiest part of this approach is to say what measurements are implied by a given prior configuration. Following Svetlana's approach, I have tried generate pseudo-steady-state metabolite concentrations based on the prior parameter distributions by integrating the ODE system over a long period, starting from the reference state. This can be done within a normal Stan workflow thanks to the built in ODE solving functionality. At each MCMC iteration, the system is solved based on the current values of all parameters. See [here](https://mc-stan.org/docs/2_18/stan-users-guide/ode-solver-chapter.html) for more about ODEs in Stan.\n",
    "\n",
    "First we compile a Stan model from a file and print its code"
   ]
  },
  {
   "cell_type": "code",
   "execution_count": 4,
   "metadata": {
    "scrolled": false
   },
   "outputs": [
    {
     "name": "stderr",
     "output_type": "stream",
     "text": [
      "INFO:pystan:COMPILING THE C++ CODE FOR MODEL anon_model_9c50e73d096b28c774ff1e7f04b2c5a6 NOW.\n"
     ]
    },
    {
     "name": "stdout",
     "output_type": "stream",
     "text": [
      "functions {\n",
      "#include ode_function.stan\n",
      "}\n",
      "data {\n",
      "  int<lower=1> N_metabolite;\n",
      "  int<lower=1> N_controlled;\n",
      "  int<lower=1> N_experiment;\n",
      "  real initial_metabolite_concentration[N_metabolite];\n",
      "  real final_metabolite_concentration[N_experiment, N_metabolite];\n",
      "  real controlled_concentration[N_experiment, N_controlled];\n",
      "  int<lower=0,upper=1> LIKELIHOOD;\n",
      "  real<lower=0> t_0;\n",
      "  real<lower=0> t_steady;\n",
      "  vector<lower=0>[N_metabolite] sigma;\n",
      "  vector[3] enzyme_parameter_mean;\n",
      "  vector<lower=0>[3] enzyme_parameter_sd;\n",
      "  real K_I_mean;\n",
      "  real K_I_sd;\n",
      "}\n",
      "parameters {\n",
      "  real<lower=0> k_cat[4];\n",
      "  real<lower=0> K_eq[4];\n",
      "  real<lower=0> K_m[4];\n",
      "  real<lower=0> K_I;\n",
      "}\n",
      "transformed parameters {\n",
      "  real final_metabolite_concentration_hat[N_experiment, N_metabolite]; \n",
      "  for (e in 1:N_experiment){\n",
      "    real theta[13] = append_array(append_array(append_array(k_cat, K_eq), K_m), {K_I});\n",
      "    int x_i[0];\n",
      "    final_metabolite_concentration_hat[e] =\n",
      "      tail(integrate_ode_rk45(reaction_ode,\n",
      "                              initial_metabolite_concentration,\n",
      "                              t_0,\n",
      "                              {t_steady},\n",
      "                              theta,\n",
      "                              controlled_concentration[e],\n",
      "                              x_i), 1)[1];\n",
      "  }\n",
      "}\n",
      "model {\n",
      "  // priors\n",
      "  k_cat ~ lognormal(enzyme_parameter_mean[1], enzyme_parameter_sd[1]);\n",
      "  K_eq ~ lognormal(enzyme_parameter_mean[2], enzyme_parameter_sd[2]);\n",
      "  K_m ~ lognormal(enzyme_parameter_mean[3], enzyme_parameter_sd[3]);\n",
      "  K_I ~ lognormal(K_I_mean, K_I_sd);\n",
      "  // measurement model\n",
      "  if (LIKELIHOOD == 1){\n",
      "    for (e in 1:N_experiment){\n",
      "      final_metabolite_concentration[e] ~ normal(final_metabolite_concentration_hat[e], sigma);\n",
      "    }\n",
      "  }\n",
      "}\n",
      "generated quantities {\n",
      "  real final_metabolite_concentration_pred[N_experiment, N_metabolite];\n",
      "  for (e in 1:N_experiment){\n",
      "    for (m in 1:N_metabolite){\n",
      "      final_metabolite_concentration_pred[e, m] = normal_rng(final_metabolite_concentration_hat[e, m], sigma[m]);\n",
      "    }\n",
      "  }\n",
      "}\n",
      "\n"
     ]
    }
   ],
   "source": [
    "model = pystan.StanModel(file='reaction_model.stan')\n",
    "print(model.model_code)"
   ]
  },
  {
   "cell_type": "markdown",
   "metadata": {},
   "source": [
    "The `reaction_ode` that is included at the top of the model is as follows:"
   ]
  },
  {
   "cell_type": "code",
   "execution_count": 5,
   "metadata": {},
   "outputs": [
    {
     "name": "stdout",
     "output_type": "stream",
     "text": [
      "real[] reaction_ode(real t, real[] y, real[] theta, real[] x_r, int[] x_i){\n",
      "\n",
      "  real X_1 = y[1];\n",
      "  real X_2 = y[2];\n",
      "  real X_3 = y[3];\n",
      "  \n",
      "  real E_1 = x_r[1];\n",
      "  real E_2 = x_r[2];\n",
      "  real E_3 = x_r[3];\n",
      "  real E_4 = x_r[4];\n",
      "  real S = x_r[4];\n",
      "  real P = x_r[5];\n",
      "\n",
      "  real kcat_1 = theta[1];\n",
      "  real kcat_2 = theta[2];\n",
      "  real kcat_3 = theta[3];\n",
      "  real kcat_4 = theta[4];\n",
      "\n",
      "  real Keq_1 = theta[5];\n",
      "  real Keq_2 = theta[6];\n",
      "  real Keq_3 = theta[7];\n",
      "  real Keq_4 = theta[8];\n",
      "\n",
      "  real Km_1 = theta[9];\n",
      "  real Km_2 = theta[10];\n",
      "  real Km_3 = theta[11];\n",
      "  real Km_4 = theta[12];\n",
      "\n",
      "  real KI_2 = theta[13];\n",
      "\n",
      "  real v1 = E_1 * (kcat_1 * (S-X_1 / Keq_1) / (S + Km_1 + X_1 / Keq_1));\n",
      "  real v2 = E_2 * (kcat_2 * ((X_1-X_2 / Keq_2) / (X_1 + Km_2 + X_2 / Keq_2)) * (1 / (1 + X_3 / KI_2)));\n",
      "  real v3 = E_3 * (kcat_3 * (X_2-X_3 / Keq_3) / (X_2 + Km_3 + X_3 / Keq_3));\n",
      "  real v4 = E_4 * (kcat_4 * (X_3-P / Keq_4) / (X_3 + Km_4 + P / Keq_4));\n",
      "  \n",
      "  real dmetdt[3];\n",
      "  dmetdt[1] = v1 - v2;   // X1\n",
      "  dmetdt[2] = v2 - v3;   // X2\n",
      "  dmetdt[3] = v3 - v4;   // X3\n",
      "  return dmetdt;\n",
      "}\n",
      "\n"
     ]
    }
   ],
   "source": [
    "with open(\"ode_function.stan\", \"r\") as f:\n",
    "    print(f.read())"
   ]
  },
  {
   "cell_type": "markdown",
   "metadata": {},
   "source": [
    "## Configure the model\n",
    "\n",
    "Next we need to make some configuration choices.\n",
    "\n",
    "`t0` and `t_steady` specify the length of time the ode system will be solved over. These should be long enough that we can be fairly sure the system will be in a steady state after this amount of time, but short enough to save the ode solver from having to do unnecessary calculations. I chose 50 time units based on Svetlana's example.\n",
    "\n",
    "`sigma` represents how (in)accurate the experimental measurements (i.e. $X_1, X_2, X_3$) are - i.e. if we knew the true values of all the parameters and used them to simulate the system, we assume that the measurements tend to deviate from the simulations by about `sigma`. This is a slightly tricky idea as all potential sources of error need to be taken into account, as well as the final chemical analysis. For example, deviations in the controlled enzyme/substrate/product concentrations would also cause errors. I chose 0.1 more or less arbitrarily.\n",
    "\n",
    "The remaining statements in the cell below configure prior distributions for the model's parameters. I chose a lognormal distribution with location parameter 0 and scale parameter 0.5 for each parameter, again based on Svetlana's example (this distribution is illustrated below)."
   ]
  },
  {
   "cell_type": "code",
   "execution_count": 6,
   "metadata": {},
   "outputs": [],
   "source": [
    "# time at initial state\n",
    "t_0 = 0\n",
    "\n",
    "# time by which steady state should be reached\n",
    "t_steady = 50\n",
    "\n",
    "# how accurate were the measurments for each metabolite?\n",
    "sigma = [0.1, 0.1, 0.1]\n",
    "\n",
    "# mean and sd of log priors...\n",
    "# ...enzyme parameter\n",
    "enzyme_parameter_mean = [0, 0, 0]\n",
    "enzyme_parameter_sd = [0.5, 0.5, 0.5] \n",
    "# ...inhibition parameter\n",
    "K_I_mean = 0\n",
    "K_I_sd = 0.5"
   ]
  },
  {
   "cell_type": "code",
   "execution_count": 7,
   "metadata": {},
   "outputs": [
    {
     "data": {
      "image/png": "[encoded data removed]",
      "text/plain": [
       "<Figure size 432x288 with 1 Axes>"
      ]
     },
     "metadata": {
      "needs_background": "light"
     },
     "output_type": "display_data"
    }
   ],
   "source": [
    "xx = np.linspace(0, 5, 200)\n",
    "\n",
    "loc = 0\n",
    "s = 0.5\n",
    "\n",
    "yy = lognorm.pdf(xx, s=s, loc=loc)\n",
    "\n",
    "f, ax = plt.subplots()\n",
    "ax.plot(xx, yy)\n",
    "ax.set(title=f'lognormal({loc}, {s}) probability density function',\n",
    "       xlabel='Parameter value',\n",
    "       ylabel='Probability density')\n",
    "\n",
    "\n",
    "plt.show()"
   ]
  },
  {
   "cell_type": "markdown",
   "metadata": {},
   "source": [
    "The next cell turns our configuration and experimental data into suitable input for the Stan model."
   ]
  },
  {
   "cell_type": "code",
   "execution_count": 8,
   "metadata": {},
   "outputs": [
    {
     "name": "stdout",
     "output_type": "stream",
     "text": [
      "data_posterior:\n"
     ]
    },
    {
     "data": {
      "text/plain": [
       "{'N_metabolite': 3,\n",
       " 'N_controlled': 6,\n",
       " 'N_experiment': 3,\n",
       " 'initial_metabolite_concentration': X1    0.1\n",
       " X2    0.1\n",
       " X3    0.1\n",
       " Name: Ref, dtype: float64,\n",
       " 'final_metabolite_concentration':         X1   X2    X3\n",
       " Ex_1  0.90  0.9  0.75\n",
       " Ex_2  0.90  1.2  1.10\n",
       " Ex_3  0.65  0.9  1.30,\n",
       " 'controlled_concentration':       E1  E2  E3  E4    s  p\n",
       " Ex_1   1   1   1   2  1.0  1\n",
       " Ex_2   1   2   1   1  1.0  1\n",
       " Ex_3   1   1   1   1  0.5  2,\n",
       " 't_0': 0,\n",
       " 't_steady': 50,\n",
       " 'sigma': [0.1, 0.1, 0.1],\n",
       " 'enzyme_parameter_mean': [0, 0, 0],\n",
       " 'enzyme_parameter_sd': [0.5, 0.5, 0.5],\n",
       " 'K_I_mean': 0,\n",
       " 'K_I_sd': 0.5,\n",
       " 'LIKELIHOOD': 1}"
      ]
     },
     "metadata": {},
     "output_type": "display_data"
    }
   ],
   "source": [
    "initial_conditions = 'Ref'\n",
    "experiments = ['Ex_1', 'Ex_2', 'Ex_3']\n",
    "controlled_concentrations = ['E1', 'E2', 'E3', 'E4', 's', 'p']\n",
    "enzymes = ['E1', 'E2', 'E3', 'E4']\n",
    "metabolites = ['X1', 'X2', 'X3']\n",
    "\n",
    "model_data = {\n",
    "    \n",
    "    # experiment results\n",
    "    'N_metabolite': len(metabolites),\n",
    "    'N_controlled': len(controlled_concentrations),\n",
    "    'N_experiment': len(experiments),\n",
    "    'initial_metabolite_concentration': data.loc[initial_conditions, metabolites],\n",
    "    'final_metabolite_concentration': data.loc[experiments, metabolites],\n",
    "    'controlled_concentration': data.loc[experiments, controlled_concentrations],\n",
    "    \n",
    "    # config\n",
    "    't_0': t_0,\n",
    "    't_steady': t_steady,\n",
    "    'sigma': sigma,\n",
    "    'enzyme_parameter_mean': enzyme_parameter_mean,\n",
    "    'enzyme_parameter_sd': enzyme_parameter_sd,\n",
    "    'K_I_mean': K_I_mean,\n",
    "    'K_I_sd': K_I_sd\n",
    "    \n",
    "}\n",
    "\n",
    "data_prior = {**model_data, **{'LIKELIHOOD': 0}}\n",
    "data_posterior = {**model_data, **{'LIKELIHOOD': 1}}\n",
    "\n",
    "print(\"data_posterior:\")\n",
    "display(data_posterior)"
   ]
  },
  {
   "cell_type": "markdown",
   "metadata": {},
   "source": [
    "This cell fits the model twice: once in likelihood mode and once in prior only mode. The results are then put into an arviz [`InferenceData`](https://arviz-devs.github.io/arviz/notebooks/XarrayforArviZ.html) object for analysis."
   ]
  },
  {
   "cell_type": "code",
   "execution_count": 9,
   "metadata": {},
   "outputs": [
    {
     "data": {
      "text/html": [
       "<div>\n",
       "<style scoped>\n",
       "    .dataframe tbody tr th:only-of-type {\n",
       "        vertical-align: middle;\n",
       "    }\n",
       "\n",
       "    .dataframe tbody tr th {\n",
       "        vertical-align: top;\n",
       "    }\n",
       "\n",
       "    .dataframe thead th {\n",
       "        text-align: right;\n",
       "    }\n",
       "</style>\n",
       "<table border=\"1\" class=\"dataframe\">\n",
       "  <thead>\n",
       "    <tr style=\"text-align: right;\">\n",
       "      <th></th>\n",
       "      <th>mean</th>\n",
       "      <th>sd</th>\n",
       "      <th>mc error</th>\n",
       "      <th>hpd 3%</th>\n",
       "      <th>hpd 97%</th>\n",
       "      <th>eff_n</th>\n",
       "      <th>r_hat</th>\n",
       "    </tr>\n",
       "  </thead>\n",
       "  <tbody>\n",
       "    <tr>\n",
       "      <th>k_cat[0]</th>\n",
       "      <td>0.58</td>\n",
       "      <td>0.20</td>\n",
       "      <td>0.01</td>\n",
       "      <td>0.27</td>\n",
       "      <td>0.93</td>\n",
       "      <td>423.0</td>\n",
       "      <td>1.00</td>\n",
       "    </tr>\n",
       "    <tr>\n",
       "      <th>k_cat[1]</th>\n",
       "      <td>2.34</td>\n",
       "      <td>0.90</td>\n",
       "      <td>0.06</td>\n",
       "      <td>0.96</td>\n",
       "      <td>4.01</td>\n",
       "      <td>440.0</td>\n",
       "      <td>1.01</td>\n",
       "    </tr>\n",
       "    <tr>\n",
       "      <th>k_cat[2]</th>\n",
       "      <td>1.94</td>\n",
       "      <td>0.79</td>\n",
       "      <td>0.05</td>\n",
       "      <td>0.75</td>\n",
       "      <td>3.37</td>\n",
       "      <td>338.0</td>\n",
       "      <td>1.01</td>\n",
       "    </tr>\n",
       "    <tr>\n",
       "      <th>k_cat[3]</th>\n",
       "      <td>0.62</td>\n",
       "      <td>0.22</td>\n",
       "      <td>0.01</td>\n",
       "      <td>0.27</td>\n",
       "      <td>0.96</td>\n",
       "      <td>384.0</td>\n",
       "      <td>1.00</td>\n",
       "    </tr>\n",
       "    <tr>\n",
       "      <th>K_eq[0]</th>\n",
       "      <td>2.21</td>\n",
       "      <td>0.71</td>\n",
       "      <td>0.04</td>\n",
       "      <td>1.04</td>\n",
       "      <td>3.48</td>\n",
       "      <td>400.0</td>\n",
       "      <td>1.00</td>\n",
       "    </tr>\n",
       "    <tr>\n",
       "      <th>K_eq[1]</th>\n",
       "      <td>2.06</td>\n",
       "      <td>0.44</td>\n",
       "      <td>0.01</td>\n",
       "      <td>1.38</td>\n",
       "      <td>2.86</td>\n",
       "      <td>461.0</td>\n",
       "      <td>1.00</td>\n",
       "    </tr>\n",
       "    <tr>\n",
       "      <th>K_eq[2]</th>\n",
       "      <td>1.51</td>\n",
       "      <td>0.26</td>\n",
       "      <td>0.01</td>\n",
       "      <td>1.09</td>\n",
       "      <td>2.02</td>\n",
       "      <td>391.0</td>\n",
       "      <td>1.00</td>\n",
       "    </tr>\n",
       "    <tr>\n",
       "      <th>K_eq[3]</th>\n",
       "      <td>3.96</td>\n",
       "      <td>1.26</td>\n",
       "      <td>0.03</td>\n",
       "      <td>2.10</td>\n",
       "      <td>6.26</td>\n",
       "      <td>574.0</td>\n",
       "      <td>1.00</td>\n",
       "    </tr>\n",
       "    <tr>\n",
       "      <th>K_m[0]</th>\n",
       "      <td>0.66</td>\n",
       "      <td>0.26</td>\n",
       "      <td>0.01</td>\n",
       "      <td>0.29</td>\n",
       "      <td>1.18</td>\n",
       "      <td>438.0</td>\n",
       "      <td>1.00</td>\n",
       "    </tr>\n",
       "    <tr>\n",
       "      <th>K_m[1]</th>\n",
       "      <td>0.79</td>\n",
       "      <td>0.35</td>\n",
       "      <td>0.01</td>\n",
       "      <td>0.24</td>\n",
       "      <td>1.43</td>\n",
       "      <td>714.0</td>\n",
       "      <td>1.00</td>\n",
       "    </tr>\n",
       "    <tr>\n",
       "      <th>K_m[2]</th>\n",
       "      <td>0.86</td>\n",
       "      <td>0.40</td>\n",
       "      <td>0.02</td>\n",
       "      <td>0.24</td>\n",
       "      <td>1.60</td>\n",
       "      <td>361.0</td>\n",
       "      <td>1.00</td>\n",
       "    </tr>\n",
       "    <tr>\n",
       "      <th>K_m[3]</th>\n",
       "      <td>1.74</td>\n",
       "      <td>0.73</td>\n",
       "      <td>0.03</td>\n",
       "      <td>0.66</td>\n",
       "      <td>3.21</td>\n",
       "      <td>519.0</td>\n",
       "      <td>1.00</td>\n",
       "    </tr>\n",
       "    <tr>\n",
       "      <th>K_I</th>\n",
       "      <td>1.50</td>\n",
       "      <td>0.75</td>\n",
       "      <td>0.04</td>\n",
       "      <td>0.49</td>\n",
       "      <td>2.97</td>\n",
       "      <td>347.0</td>\n",
       "      <td>1.01</td>\n",
       "    </tr>\n",
       "  </tbody>\n",
       "</table>\n",
       "</div>"
      ],
      "text/plain": [
       "          mean    sd  mc error  hpd 3%  hpd 97%  eff_n  r_hat\n",
       "k_cat[0]  0.58  0.20      0.01    0.27     0.93  423.0   1.00\n",
       "k_cat[1]  2.34  0.90      0.06    0.96     4.01  440.0   1.01\n",
       "k_cat[2]  1.94  0.79      0.05    0.75     3.37  338.0   1.01\n",
       "k_cat[3]  0.62  0.22      0.01    0.27     0.96  384.0   1.00\n",
       "K_eq[0]   2.21  0.71      0.04    1.04     3.48  400.0   1.00\n",
       "K_eq[1]   2.06  0.44      0.01    1.38     2.86  461.0   1.00\n",
       "K_eq[2]   1.51  0.26      0.01    1.09     2.02  391.0   1.00\n",
       "K_eq[3]   3.96  1.26      0.03    2.10     6.26  574.0   1.00\n",
       "K_m[0]    0.66  0.26      0.01    0.29     1.18  438.0   1.00\n",
       "K_m[1]    0.79  0.35      0.01    0.24     1.43  714.0   1.00\n",
       "K_m[2]    0.86  0.40      0.02    0.24     1.60  361.0   1.00\n",
       "K_m[3]    1.74  0.73      0.03    0.66     3.21  519.0   1.00\n",
       "K_I       1.50  0.75      0.04    0.49     2.97  347.0   1.01"
      ]
     },
     "execution_count": 9,
     "metadata": {},
     "output_type": "execute_result"
    }
   ],
   "source": [
    "fit_prior = model.sampling(data=data_prior, iter=300, chains=3, control={'max_treedepth': 15})\n",
    "fit_posterior = model.sampling(data=data_posterior, iter=300, chains=3, control={'adapt_delta': 0.9})\n",
    "\n",
    "infd = arviz.from_pystan(posterior=fit_posterior,\n",
    "                         posterior_predictive='final_metabolite_concentration_pred',\n",
    "                         prior_predictive='final_metabolite_concentration_pred',\n",
    "                         observed_data='final_metabolite_concentration',\n",
    "                         prior=fit_prior,\n",
    "                         coords={'experiments': experiments,\n",
    "                                 'metabolites': metabolites,\n",
    "                                 'enzymes': ['E1', 'E2', 'E3', 'E4']},\n",
    "                         dims={'k_cat': ['enzymes'], \n",
    "                               'K_eq': ['enzymes'],\n",
    "                               'K_m': ['enzymes'],\n",
    "                               'final_metabolite_concentration': ['experiments', 'metabolites'],\n",
    "                               'final_metabolite_concentration_pred': ['experiments', 'metabolites'],\n",
    "                               'final_metabolite_concentration_hat': ['experiments', 'metabolites']})\n",
    "arviz.summary(infd.posterior, var_names=['k_cat', 'K_eq', 'K_m', 'K_I'])"
   ]
  },
  {
   "cell_type": "markdown",
   "metadata": {},
   "source": [
    "A look at the fit summary, together with the lack of diagnostic warnings in the cell above, indicates that the model has probably converged successfully.\n",
    "\n",
    "To find out what the model learned from the data, we can look at the prior and posterior distributions of the most interesting parameters. The next cell plots them:"
   ]
  },
  {
   "cell_type": "code",
   "execution_count": 10,
   "metadata": {},
   "outputs": [
    {
     "data": {
      "image/png": "[encoded data removed]",
      "text/plain": [
       "<Figure size 1080x576 with 12 Axes>"
      ]
     },
     "metadata": {
      "needs_background": "light"
     },
     "output_type": "display_data"
    }
   ],
   "source": [
    "parameters = ['k_cat', 'K_eq', 'K_m']\n",
    "\n",
    "bins = np.linspace(0, 5, 30)\n",
    "\n",
    "f, axes = plt.subplots(3, 4, figsize=[15, 8], sharex=True, sharey=True)\n",
    "\n",
    "for row, par in zip(axes, parameters):\n",
    "    samples_prior = infd.prior[par].to_dataframe().unstack()[par]\n",
    "    samples_posterior = infd.posterior[par].to_dataframe().unstack()[par]\n",
    "    for enzyme, ax in zip(enzymes, row):\n",
    "        h_prior = ax.hist(samples_prior[enzyme], alpha=0.6, bins=bins, density=True, label='Prior')\n",
    "        h_posterior = ax.hist(samples_posterior[enzyme], alpha=0.6, bins=bins, density=True, label='Posterior')\n",
    "        if ax == row[0]:\n",
    "            ax.set_ylabel('Density')\n",
    "        if ax in axes[-1]:\n",
    "            ax.set_xlabel('Parameter value')\n",
    "        ax.set_title(f'{par} ({enzyme})', y=0.85)\n",
    "        leg = ax.legend(frameon=False)\n",
    "\n",
    "f.suptitle(\"What the model learned about the enzyme-specific parameters\", fontsize=15, y=1.04)\n",
    "plt.tight_layout()"
   ]
  },
  {
   "cell_type": "code",
   "execution_count": 11,
   "metadata": {},
   "outputs": [
    {
     "data": {
      "image/png": "[encoded data removed]",
      "text/plain": [
       "<Figure size 432x288 with 1 Axes>"
      ]
     },
     "metadata": {
      "needs_background": "light"
     },
     "output_type": "display_data"
    }
   ],
   "source": [
    "bins = np.linspace(0, 5, 30)\n",
    "par = 'K_I'\n",
    "samples_prior = infd.prior[par].to_dataframe()[par]\n",
    "samples_posterior = infd.posterior[par].to_dataframe()[par]\n",
    "\n",
    "f, ax = plt.subplots()\n",
    "h_prior = ax.hist(samples_prior, alpha=0.6, bins=bins, density=True, label='Prior')\n",
    "h_posterior = ax.hist(samples_posterior, alpha=0.6, bins=bins, density=True, label='Posterior')\n",
    "leg = ax.legend(frameon=False)\n",
    "text = ax.set(title='What the model learned about K_I',\n",
    "              xlabel='Parameter value',\n",
    "              ylabel='Density')"
   ]
  },
  {
   "cell_type": "markdown",
   "metadata": {},
   "source": [
    "Finally, the next cell does a basic prior posterior and posterior predictive check, comparing the observed experimental results with those expected by the model's prior and posterior distributions."
   ]
  },
  {
   "cell_type": "code",
   "execution_count": 12,
   "metadata": {},
   "outputs": [
    {
     "data": {
      "image/png": "[encoded data removed]",
      "text/plain": [
       "<Figure size 1080x360 with 2 Axes>"
      ]
     },
     "metadata": {
      "needs_background": "light"
     },
     "output_type": "display_data"
    }
   ],
   "source": [
    "obs = infd.observed_data.to_dataframe()\n",
    "posterior_pred = infd.posterior_predictive['final_metabolite_concentration_pred'].to_dataframe()\n",
    "prior_pred = infd.prior_predictive['final_metabolite_concentration_pred'].to_dataframe()\n",
    "\n",
    "g_posterior = posterior_pred.groupby(['experiments', 'metabolites'])\n",
    "g_prior =  prior_pred.groupby(['experiments', 'metabolites'])\n",
    "\n",
    "f, axes = plt.subplots(1, 2, figsize=[15, 5])\n",
    "\n",
    "for ax, g, name in zip(axes, [g_prior, g_posterior], ['prior', 'posterior']):\n",
    "    lower = g['final_metabolite_concentration_pred'].quantile(0.1).rename('lower')\n",
    "    mean = g['final_metabolite_concentration_pred'].mean().rename('mean')\n",
    "    upper = g['final_metabolite_concentration_pred'].quantile(0.9).rename('upper')\n",
    "    \n",
    "    xx = np.linspace(mean.min(), mean.max(), 10)\n",
    "    vlines = ax.vlines(mean, lower, upper, color='tab:orange', zorder=0, label='10%-90% credible interval')\n",
    "    y_equals_x_line = ax.plot(xx, xx, color='r', linestyle='--')\n",
    "    for i, row in obs.iterrows():\n",
    "        ax.text(mean.loc[i], row, '\\n'.join(i), horizontalalignment='center')\n",
    "    text = ax.set(xlabel='Predicted Concentration', \n",
    "                  ylabel='Observed Concentration',\n",
    "                  title=f'{name.capitalize()} predictive check')\n",
    "    leg = ax.legend(frameon=False)"
   ]
  },
  {
   "cell_type": "markdown",
   "metadata": {},
   "source": [
    "Metabolite $X_3$ in experiment $Ex_3$ is a clear outlier - the prior distribution expects a somewhat lower concentration, and the observed value is far higher than the posterior distribution expects. This probably indicates a problem somewhere in the system - perhaps the model goes a bit wrong in an undiagnosed way for that experiment, or that measurement was anomolous. It is also possible that this is a sign of an effect that the model was not taking into account, such as inhibition working differently in the specific conditions of experiment 3.\n",
    "\n",
    "# Conclusion\n",
    "\n",
    "This analysis method seems to work ok for this simple example, but it probably wouldn't scale that well with a larger number of experiments or a more complex system of reactions. Here are a few things that I think could be improved, making the model faster or better while using roughly the same approach:\n",
    "\n",
    "- The system of differential equation could perhaps be simplified a bit\n",
    "- Use Stan's parallelisation features to speed up the sampling.\n",
    "- Use a more principled method for choosing when the ODE solver's solution should represent a steady state.\n",
    "- Solve for steady state explicitly rather than using simulations.\n",
    "- Spend some more time thinking about appropriate priors and measurement accuracies."
   ]
  }
 ],
 "metadata": {
  "kernelspec": {
   "display_name": "Python 3",
   "language": "python",
   "name": "python3"
  },
  "language_info": {
   "codemirror_mode": {
    "name": "ipython",
    "version": 3
   },
   "file_extension": ".py",
   "mimetype": "text/x-python",
   "name": "python",
   "nbconvert_exporter": "python",
   "pygments_lexer": "ipython3",
   "version": "3.7.2"
  }
 },
 "nbformat": 4,
 "nbformat_minor": 2
}
